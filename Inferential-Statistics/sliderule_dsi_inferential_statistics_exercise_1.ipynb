{
 "cells": [
  {
   "cell_type": "markdown",
   "metadata": {},
   "source": [
    "# What is the True Normal Human Body Temperature? \n",
    "\n",
    "#### Background\n",
    "\n",
    "The mean normal body temperature was held to be 37$^{\\circ}$C or 98.6$^{\\circ}$F for more than 120 years since it was first conceptualized and reported by Carl Wunderlich in a famous 1868 book. But, is this value statistically correct?"
   ]
  },
  {
   "cell_type": "markdown",
   "metadata": {},
   "source": [
    "<h3>Exercises</h3>\n",
    "\n",
    "<p>In this exercise, you will analyze a dataset of human body temperatures and employ the concepts of hypothesis testing, confidence intervals, and statistical significance.</p>\n",
    "\n",
    "<p>Answer the following questions <b>in this notebook below and submit to your Github account</b>.</p> \n",
    "\n",
    "<ol>\n",
    "<li>  Is the distribution of body temperatures normal? \n",
    "    <ul>\n",
    "    <li> Although this is not a requirement for CLT to hold (read CLT carefully), it gives us some peace of mind that the population may also be normally distributed if we assume that this sample is representative of the population.\n",
    "    </ul>\n",
    "<li>  Is the sample size large? Are the observations independent?\n",
    "    <ul>\n",
    "    <li> Remember that this is a condition for the CLT, and hence the statistical tests we are using, to apply.\n",
    "    </ul>\n",
    "<li>  Is the true population mean really 98.6 degrees F?\n",
    "    <ul>\n",
    "    <li> Would you use a one-sample or two-sample test? Why?\n",
    "    <li> In this situation, is it appropriate to use the $t$ or $z$ statistic? \n",
    "    <li> Now try using the other test. How is the result be different? Why?\n",
    "    </ul>\n",
    "<li>  Draw a small sample of size 10 from the data and repeat both tests. \n",
    "    <ul>\n",
    "    <li> Which one is the correct one to use? \n",
    "    <li> What do you notice? What does this tell you about the difference in application of the $t$ and $z$ statistic?\n",
    "    </ul>\n",
    "<li>  At what temperature should we consider someone's temperature to be \"abnormal\"?\n",
    "    <ul>\n",
    "    <li> Start by computing the margin of error and confidence interval.\n",
    "    </ul>\n",
    "<li>  Is there a significant difference between males and females in normal temperature?\n",
    "    <ul>\n",
    "    <li> What test did you use and why?\n",
    "    <li> Write a story with your conclusion in the context of the original problem.\n",
    "    </ul>\n",
    "</ol>\n",
    "\n",
    "You can include written notes in notebook cells using Markdown: \n",
    "   - In the control panel at the top, choose Cell > Cell Type > Markdown\n",
    "   - Markdown syntax: http://nestacms.com/docs/creating-content/markdown-cheat-sheet\n",
    "\n",
    "#### Resources\n",
    "\n",
    "+ Information and data sources: http://www.amstat.org/publications/jse/datasets/normtemp.txt, http://www.amstat.org/publications/jse/jse_data_archive.htm\n",
    "+ Markdown syntax: http://nestacms.com/docs/creating-content/markdown-cheat-sheet\n",
    "\n",
    "****"
   ]
  },
  {
   "cell_type": "code",
   "execution_count": 1,
   "metadata": {
    "collapsed": true
   },
   "outputs": [],
   "source": [
    "import pandas as pd\n",
    "\n",
    "df = pd.read_csv('data/human_body_temperature.csv')"
   ]
  },
  {
   "cell_type": "code",
   "execution_count": 2,
   "metadata": {},
   "outputs": [
    {
     "data": {
      "text/html": [
       "<div>\n",
       "<style>\n",
       "    .dataframe thead tr:only-child th {\n",
       "        text-align: right;\n",
       "    }\n",
       "\n",
       "    .dataframe thead th {\n",
       "        text-align: left;\n",
       "    }\n",
       "\n",
       "    .dataframe tbody tr th {\n",
       "        vertical-align: top;\n",
       "    }\n",
       "</style>\n",
       "<table border=\"1\" class=\"dataframe\">\n",
       "  <thead>\n",
       "    <tr style=\"text-align: right;\">\n",
       "      <th></th>\n",
       "      <th>temperature</th>\n",
       "      <th>gender</th>\n",
       "      <th>heart_rate</th>\n",
       "    </tr>\n",
       "  </thead>\n",
       "  <tbody>\n",
       "    <tr>\n",
       "      <th>0</th>\n",
       "      <td>99.3</td>\n",
       "      <td>F</td>\n",
       "      <td>68.0</td>\n",
       "    </tr>\n",
       "    <tr>\n",
       "      <th>1</th>\n",
       "      <td>98.4</td>\n",
       "      <td>F</td>\n",
       "      <td>81.0</td>\n",
       "    </tr>\n",
       "    <tr>\n",
       "      <th>2</th>\n",
       "      <td>97.8</td>\n",
       "      <td>M</td>\n",
       "      <td>73.0</td>\n",
       "    </tr>\n",
       "    <tr>\n",
       "      <th>3</th>\n",
       "      <td>99.2</td>\n",
       "      <td>F</td>\n",
       "      <td>66.0</td>\n",
       "    </tr>\n",
       "    <tr>\n",
       "      <th>4</th>\n",
       "      <td>98.0</td>\n",
       "      <td>F</td>\n",
       "      <td>73.0</td>\n",
       "    </tr>\n",
       "  </tbody>\n",
       "</table>\n",
       "</div>"
      ],
      "text/plain": [
       "   temperature gender  heart_rate\n",
       "0         99.3      F        68.0\n",
       "1         98.4      F        81.0\n",
       "2         97.8      M        73.0\n",
       "3         99.2      F        66.0\n",
       "4         98.0      F        73.0"
      ]
     },
     "execution_count": 2,
     "metadata": {},
     "output_type": "execute_result"
    }
   ],
   "source": [
    "# Your work here.\n",
    "# My work:\n",
    "\n",
    "# See what data we have\n",
    "df.head()"
   ]
  },
  {
   "cell_type": "code",
   "execution_count": 3,
   "metadata": {},
   "outputs": [
    {
     "name": "stdout",
     "output_type": "stream",
     "text": [
      "<class 'pandas.core.frame.DataFrame'>\n",
      "RangeIndex: 130 entries, 0 to 129\n",
      "Data columns (total 3 columns):\n",
      "temperature    130 non-null float64\n",
      "gender         130 non-null object\n",
      "heart_rate     130 non-null float64\n",
      "dtypes: float64(2), object(1)\n",
      "memory usage: 3.1+ KB\n"
     ]
    }
   ],
   "source": [
    "df.info()"
   ]
  },
  {
   "cell_type": "code",
   "execution_count": 4,
   "metadata": {
    "collapsed": true
   },
   "outputs": [],
   "source": [
    "import scipy\n",
    "from scipy import stats\n",
    "import numpy as np"
   ]
  },
  {
   "cell_type": "code",
   "execution_count": 5,
   "metadata": {
    "collapsed": true
   },
   "outputs": [],
   "source": [
    "# Run the Scipy D'Agostino and Pearson test for normality\n",
    "\n",
    "normal_test = scipy.stats.mstats.normaltest(df['temperature'])"
   ]
  },
  {
   "cell_type": "code",
   "execution_count": 6,
   "metadata": {},
   "outputs": [
    {
     "name": "stdout",
     "output_type": "stream",
     "text": [
      "Test statistic:  2.703801433319203\n",
      "p-value: 0.2587479863488254\n"
     ]
    }
   ],
   "source": [
    "print('Test statistic:  {}'.format(normal_test[0]))\n",
    "print('p-value: {}'.format(normal_test[1]))"
   ]
  },
  {
   "cell_type": "markdown",
   "metadata": {},
   "source": [
    "1) Since the p-value is much lower than the test statistic and is close to 0, there is good evidence to not reject the null hypothesis, that the distribution is normal, therefore, the distribution of body temperatures is normal."
   ]
  },
  {
   "cell_type": "markdown",
   "metadata": {},
   "source": [
    "2) There are 130 observations, which is greater than 30, the default minimum, so yes, the sample size is large enough.  Without evidence to the contrary, yes, we can assume the observations are independent."
   ]
  },
  {
   "cell_type": "markdown",
   "metadata": {},
   "source": [
    "3) The appropriate test is the one-sample test, because we're comparing a sample mean from a single data set to the accepted mean.  The z-statistic works best with larger sample sizes (> 30) like this one."
   ]
  },
  {
   "cell_type": "code",
   "execution_count": 7,
   "metadata": {},
   "outputs": [
    {
     "name": "stdout",
     "output_type": "stream",
     "text": [
      "z-statistic is -5.45482329236\n",
      "p-value is 4.9021570141e-08\n"
     ]
    }
   ],
   "source": [
    "# Run the Statsmodels z-test\n",
    "\n",
    "import statsmodels\n",
    "from statsmodels import stats\n",
    "from statsmodels.stats import weightstats\n",
    "\n",
    "z_test_tstat,z_test_pval = statsmodels.stats.weightstats.ztest(df['temperature'], value=98.6, alternative='two-sided')\n",
    "print('z-statistic is',z_test_tstat)\n",
    "print('p-value is',z_test_pval)"
   ]
  },
  {
   "cell_type": "markdown",
   "metadata": {
    "collapsed": true
   },
   "source": [
    "The p-value is much lower than the default 0.05, so the null hypothesis, that the mean body temperature is 98.6, can be rejected."
   ]
  },
  {
   "cell_type": "code",
   "execution_count": 8,
   "metadata": {},
   "outputs": [
    {
     "name": "stdout",
     "output_type": "stream",
     "text": [
      "t-statistic is -5.45482329236\n",
      "p-value is 2.41063204156e-07\n"
     ]
    }
   ],
   "source": [
    "# Now run the Scipy one sample t-test for comparison\n",
    "\n",
    "t_test_tstat,t_test_pval = scipy.stats.ttest_1samp(df['temperature'], 98.6)\n",
    "print('t-statistic is',t_test_tstat)\n",
    "print('p-value is',t_test_pval)"
   ]
  },
  {
   "cell_type": "markdown",
   "metadata": {},
   "source": [
    "Using the t-test instead yields the same t-statistic, but a slightly larger p-value.  However, the result is the same and the null hypothesis can be rejected.  The main difference is due to the usual usage between the 2 tests.  The t-test is generally for smaller sample sizes (< 30) and the z-test is generally for larger sample sizes (> 30)."
   ]
  },
  {
   "cell_type": "code",
   "execution_count": 9,
   "metadata": {},
   "outputs": [
    {
     "name": "stdout",
     "output_type": "stream",
     "text": [
      "z-statistic from small sample is -2.12948453157\n",
      "p-value from small sample is 0.0332141933261\n",
      "t-statistic from small sample is -2.12948453157\n",
      "p-value from small sample is 0.0620734716746\n"
     ]
    }
   ],
   "source": [
    "# Setup the small sample and run the 2 tests on it\n",
    "\n",
    "small_sample = np.random.choice(df['temperature'], 10, replace=False)\n",
    "\n",
    "small_z_test_tstat,small_z_test_pval = statsmodels.stats.weightstats.ztest(small_sample, value=98.6, alternative='two-sided')\n",
    "print('z-statistic from small sample is',small_z_test_tstat)\n",
    "print('p-value from small sample is',small_z_test_pval)\n",
    "\n",
    "small_t_test_tstat,small_t_test_pval = scipy.stats.ttest_1samp(small_sample, 98.6)\n",
    "print('t-statistic from small sample is',small_t_test_tstat)\n",
    "print('p-value from small sample is',small_t_test_pval)"
   ]
  },
  {
   "cell_type": "markdown",
   "metadata": {},
   "source": [
    "4) With the small sample size, the t-test would be more appropriate to use.  Between the 2 tests, the p-value is smaller using the z-test with both the large and small sample sizes.  To me, that means the t-test probably safer, because if the z-test is always providing a smaller p-value, always using the z-test would result in more evidence to reject a null hypothesis without further analysis, which might be a false conclusion."
   ]
  },
  {
   "cell_type": "code",
   "execution_count": 10,
   "metadata": {},
   "outputs": [
    {
     "name": "stdout",
     "output_type": "stream",
     "text": [
      "95% Confidence Interval is [98.12200290560803 - 98.3764586328535]\n",
      "95% Margin of error is +/- 0.125550964803\n"
     ]
    }
   ],
   "source": [
    "# Compute the confidence interval and margin of error\n",
    "\n",
    "from statsmodels.stats.weightstats import DescrStatsW\n",
    "\n",
    "low_bound,up_bound = statsmodels.stats.weightstats.DescrStatsW(df['temperature']).tconfint_mean(alpha=0.05, alternative='two-sided')\n",
    "margin_error = 1.96 * np.std(df['temperature']) / np.sqrt(len(df))\n",
    "\n",
    "print('95% Confidence Interval is [{} - {}]'.format(low_bound,up_bound))\n",
    "print('95% Margin of error is +/-',margin_error)"
   ]
  },
  {
   "cell_type": "markdown",
   "metadata": {},
   "source": [
    "5) So, theoretically, the assumed mean body temperature of 98.6 would be, according to this sample, abnormal, since 98.5 is the upper bound of the confidence interval plus the margin of error.  Anything between 98.0 and 98.5 would be normal with 95% confidence."
   ]
  },
  {
   "cell_type": "code",
   "execution_count": 11,
   "metadata": {},
   "outputs": [
    {
     "name": "stdout",
     "output_type": "stream",
     "text": [
      "<class 'pandas.core.frame.DataFrame'>\n",
      "Int64Index: 65 entries, 2 to 128\n",
      "Data columns (total 3 columns):\n",
      "temperature    65 non-null float64\n",
      "gender         65 non-null object\n",
      "heart_rate     65 non-null float64\n",
      "dtypes: float64(2), object(1)\n",
      "memory usage: 2.0+ KB\n",
      "<class 'pandas.core.frame.DataFrame'>\n",
      "Int64Index: 65 entries, 0 to 129\n",
      "Data columns (total 3 columns):\n",
      "temperature    65 non-null float64\n",
      "gender         65 non-null object\n",
      "heart_rate     65 non-null float64\n",
      "dtypes: float64(2), object(1)\n",
      "memory usage: 2.0+ KB\n"
     ]
    }
   ],
   "source": [
    "# Break the sample into male and female groups and make sure the shape is the same\n",
    "\n",
    "df_male = df[df['gender'] == 'M']\n",
    "df_female = df[df['gender'] == 'F']\n",
    "\n",
    "df_male.info()\n",
    "df_female.info()"
   ]
  },
  {
   "cell_type": "code",
   "execution_count": 12,
   "metadata": {},
   "outputs": [
    {
     "name": "stdout",
     "output_type": "stream",
     "text": [
      "t-statistic from gender comparison is -2.28543453817\n",
      "p-value from gender comparison is 0.0239382641829\n"
     ]
    }
   ],
   "source": [
    "t2_test_tstat, t2_test_pval = scipy.stats.ttest_ind(df_male['temperature'],df_female['temperature'],equal_var=False)\n",
    "\n",
    "print('t-statistic from gender comparison is',t2_test_tstat)\n",
    "print('p-value from gender comparison is',t2_test_pval)"
   ]
  },
  {
   "cell_type": "markdown",
   "metadata": {},
   "source": [
    "I ran a 2-sample t-test to determine if there is a significant difference in mean body temperature between males and females.  The p-value of 0.02 is < 0.05, suggesting there is evidence to support rejecting the null hypothesis that there is no significant difference.  However, the somewhat small t-statistic suggests there is not a large difference."
   ]
  },
  {
   "cell_type": "code",
   "execution_count": 13,
   "metadata": {},
   "outputs": [
    {
     "name": "stdout",
     "output_type": "stream",
     "text": [
      "t-statistic for male difference is -5.71575744932\n",
      "p-value for male difference is 3.08384031731e-07\n",
      "t-statistic for female difference is -2.23549807968\n",
      "p-value for female difference is 0.0288804507897\n"
     ]
    }
   ],
   "source": [
    "# How about a little extra work?  Since there is a difference between male and female mean body temperature,\n",
    "# which is farther from the assumed mean of 98.6\n",
    "\n",
    "tm_test_tstat,tm_test_pval = scipy.stats.ttest_1samp(df_male['temperature'], 98.6)\n",
    "tf_test_tstat,tf_test_pval = scipy.stats.ttest_1samp(df_female['temperature'], 98.6)\n",
    "print('t-statistic for male difference is',tm_test_tstat)\n",
    "print('p-value for male difference is',tm_test_pval)\n",
    "print('t-statistic for female difference is',tf_test_tstat)\n",
    "print('p-value for female difference is',tf_test_pval)"
   ]
  },
  {
   "cell_type": "markdown",
   "metadata": {},
   "source": [
    "Since both p-values are less than 0.05, although the female is close, the null hypothesis can be rejected, and both males and females have mean body temperatures under 98.6.  The t-statistic for males is larger than for females, suggesting the mean body temperature for males is lower than for females."
   ]
  },
  {
   "cell_type": "markdown",
   "metadata": {},
   "source": [
    "# Conclusion\n",
    "\n",
    "Based on all my calculations, the mean body temperature is likely less than 98.6 F, with males having a lower mean body temperature than females.  Certainly, the sample size is very small compared to the total population available, so building another larger sample would be appropriate to verify these results.  Also, since the mean body temperature of females is closer to the assumed 98.6 F, it might be worth researching the gender split of the original book.  From these calculations, it is possible the original book sampled more females than males, leading to the higher assumed mean body temperature."
   ]
  },
  {
   "cell_type": "code",
   "execution_count": null,
   "metadata": {
    "collapsed": true
   },
   "outputs": [],
   "source": []
  }
 ],
 "metadata": {
  "kernelspec": {
   "display_name": "Python 3",
   "language": "python",
   "name": "python3"
  },
  "language_info": {
   "codemirror_mode": {
    "name": "ipython",
    "version": 3
   },
   "file_extension": ".py",
   "mimetype": "text/x-python",
   "name": "python",
   "nbconvert_exporter": "python",
   "pygments_lexer": "ipython3",
   "version": "3.6.3"
  }
 },
 "nbformat": 4,
 "nbformat_minor": 1
}
