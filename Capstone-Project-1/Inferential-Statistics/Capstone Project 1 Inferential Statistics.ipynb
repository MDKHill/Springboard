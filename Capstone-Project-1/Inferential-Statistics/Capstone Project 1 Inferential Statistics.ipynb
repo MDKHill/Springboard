{
 "cells": [
  {
   "cell_type": "markdown",
   "metadata": {},
   "source": [
    "This is my inferential statistics module for my capstone project 1."
   ]
  },
  {
   "cell_type": "code",
   "execution_count": 1,
   "metadata": {
    "collapsed": true
   },
   "outputs": [],
   "source": [
    "import pandas as pd\n",
    "import numpy as np\n",
    "from numpy import random\n",
    "import seaborn as sns\n",
    "import matplotlib.pyplot as plt\n",
    "\n",
    "df = pd.read_csv('C:/Users/Hill HP 2015/Documents/Springboard/Capstone Project 1/cp1_data_clean.csv',index_col='Game')"
   ]
  },
  {
   "cell_type": "code",
   "execution_count": 2,
   "metadata": {},
   "outputs": [
    {
     "data": {
      "text/html": [
       "<div>\n",
       "<style>\n",
       "    .dataframe thead tr:only-child th {\n",
       "        text-align: right;\n",
       "    }\n",
       "\n",
       "    .dataframe thead th {\n",
       "        text-align: left;\n",
       "    }\n",
       "\n",
       "    .dataframe tbody tr th {\n",
       "        vertical-align: top;\n",
       "    }\n",
       "</style>\n",
       "<table border=\"1\" class=\"dataframe\">\n",
       "  <thead>\n",
       "    <tr style=\"text-align: right;\">\n",
       "      <th></th>\n",
       "      <th>H Fenwick Close</th>\n",
       "      <th>H GF</th>\n",
       "      <th>H GA</th>\n",
       "      <th>H GlDiff</th>\n",
       "      <th>H PP%</th>\n",
       "      <th>H PK%</th>\n",
       "      <th>H sh%</th>\n",
       "      <th>H sv%</th>\n",
       "      <th>H PDO</th>\n",
       "      <th>H win streak</th>\n",
       "      <th>...</th>\n",
       "      <th>A GlDiff</th>\n",
       "      <th>A PP%</th>\n",
       "      <th>A PK%</th>\n",
       "      <th>A sh%</th>\n",
       "      <th>A sv%</th>\n",
       "      <th>A PDO</th>\n",
       "      <th>A win streak</th>\n",
       "      <th>A standing</th>\n",
       "      <th>A 5-5 F/A</th>\n",
       "      <th>Home Win</th>\n",
       "    </tr>\n",
       "  </thead>\n",
       "  <tbody>\n",
       "    <tr>\n",
       "      <th>count</th>\n",
       "      <td>517.000000</td>\n",
       "      <td>517.000000</td>\n",
       "      <td>517.000000</td>\n",
       "      <td>517.000000</td>\n",
       "      <td>517.000000</td>\n",
       "      <td>517.000000</td>\n",
       "      <td>517.000000</td>\n",
       "      <td>517.000000</td>\n",
       "      <td>517.000000</td>\n",
       "      <td>517.000000</td>\n",
       "      <td>...</td>\n",
       "      <td>517.000000</td>\n",
       "      <td>517.000000</td>\n",
       "      <td>517.000000</td>\n",
       "      <td>517.000000</td>\n",
       "      <td>517.000000</td>\n",
       "      <td>517.000000</td>\n",
       "      <td>517.000000</td>\n",
       "      <td>517.000000</td>\n",
       "      <td>517.000000</td>\n",
       "      <td>517.000000</td>\n",
       "    </tr>\n",
       "    <tr>\n",
       "      <th>mean</th>\n",
       "      <td>50.096074</td>\n",
       "      <td>83.640232</td>\n",
       "      <td>83.406190</td>\n",
       "      <td>0.234043</td>\n",
       "      <td>18.376209</td>\n",
       "      <td>81.646809</td>\n",
       "      <td>915.615087</td>\n",
       "      <td>915.916828</td>\n",
       "      <td>1000.301741</td>\n",
       "      <td>0.462282</td>\n",
       "      <td>...</td>\n",
       "      <td>-0.191489</td>\n",
       "      <td>18.399226</td>\n",
       "      <td>81.447389</td>\n",
       "      <td>916.558994</td>\n",
       "      <td>916.272727</td>\n",
       "      <td>999.713733</td>\n",
       "      <td>0.193424</td>\n",
       "      <td>8.135397</td>\n",
       "      <td>1.024662</td>\n",
       "      <td>0.586074</td>\n",
       "    </tr>\n",
       "    <tr>\n",
       "      <th>std</th>\n",
       "      <td>3.736658</td>\n",
       "      <td>28.415354</td>\n",
       "      <td>29.053636</td>\n",
       "      <td>16.634738</td>\n",
       "      <td>4.099238</td>\n",
       "      <td>4.211227</td>\n",
       "      <td>13.063975</td>\n",
       "      <td>13.503188</td>\n",
       "      <td>19.207603</td>\n",
       "      <td>2.638605</td>\n",
       "      <td>...</td>\n",
       "      <td>16.070463</td>\n",
       "      <td>4.796999</td>\n",
       "      <td>4.912444</td>\n",
       "      <td>13.034648</td>\n",
       "      <td>13.849310</td>\n",
       "      <td>18.587298</td>\n",
       "      <td>2.294524</td>\n",
       "      <td>4.294968</td>\n",
       "      <td>0.225060</td>\n",
       "      <td>0.493013</td>\n",
       "    </tr>\n",
       "    <tr>\n",
       "      <th>min</th>\n",
       "      <td>41.270000</td>\n",
       "      <td>28.000000</td>\n",
       "      <td>26.000000</td>\n",
       "      <td>-58.000000</td>\n",
       "      <td>10.400000</td>\n",
       "      <td>67.400000</td>\n",
       "      <td>871.000000</td>\n",
       "      <td>873.000000</td>\n",
       "      <td>958.000000</td>\n",
       "      <td>-7.000000</td>\n",
       "      <td>...</td>\n",
       "      <td>-61.000000</td>\n",
       "      <td>10.300000</td>\n",
       "      <td>28.300000</td>\n",
       "      <td>870.000000</td>\n",
       "      <td>880.000000</td>\n",
       "      <td>960.000000</td>\n",
       "      <td>-7.000000</td>\n",
       "      <td>1.000000</td>\n",
       "      <td>0.520000</td>\n",
       "      <td>0.000000</td>\n",
       "    </tr>\n",
       "    <tr>\n",
       "      <th>25%</th>\n",
       "      <td>47.190000</td>\n",
       "      <td>59.000000</td>\n",
       "      <td>60.000000</td>\n",
       "      <td>-11.000000</td>\n",
       "      <td>15.100000</td>\n",
       "      <td>78.700000</td>\n",
       "      <td>909.000000</td>\n",
       "      <td>907.000000</td>\n",
       "      <td>988.000000</td>\n",
       "      <td>-1.000000</td>\n",
       "      <td>...</td>\n",
       "      <td>-10.000000</td>\n",
       "      <td>15.200000</td>\n",
       "      <td>79.000000</td>\n",
       "      <td>910.000000</td>\n",
       "      <td>907.000000</td>\n",
       "      <td>986.000000</td>\n",
       "      <td>-1.000000</td>\n",
       "      <td>4.000000</td>\n",
       "      <td>0.870000</td>\n",
       "      <td>0.000000</td>\n",
       "    </tr>\n",
       "    <tr>\n",
       "      <th>50%</th>\n",
       "      <td>50.250000</td>\n",
       "      <td>84.000000</td>\n",
       "      <td>83.000000</td>\n",
       "      <td>-1.000000</td>\n",
       "      <td>17.900000</td>\n",
       "      <td>81.500000</td>\n",
       "      <td>917.000000</td>\n",
       "      <td>919.000000</td>\n",
       "      <td>1000.000000</td>\n",
       "      <td>1.000000</td>\n",
       "      <td>...</td>\n",
       "      <td>0.000000</td>\n",
       "      <td>17.900000</td>\n",
       "      <td>81.400000</td>\n",
       "      <td>917.000000</td>\n",
       "      <td>919.000000</td>\n",
       "      <td>1001.000000</td>\n",
       "      <td>-1.000000</td>\n",
       "      <td>8.000000</td>\n",
       "      <td>1.000000</td>\n",
       "      <td>1.000000</td>\n",
       "    </tr>\n",
       "    <tr>\n",
       "      <th>75%</th>\n",
       "      <td>52.980000</td>\n",
       "      <td>106.000000</td>\n",
       "      <td>105.000000</td>\n",
       "      <td>10.000000</td>\n",
       "      <td>21.000000</td>\n",
       "      <td>84.200000</td>\n",
       "      <td>924.000000</td>\n",
       "      <td>925.000000</td>\n",
       "      <td>1012.000000</td>\n",
       "      <td>2.000000</td>\n",
       "      <td>...</td>\n",
       "      <td>9.000000</td>\n",
       "      <td>20.800000</td>\n",
       "      <td>83.900000</td>\n",
       "      <td>925.000000</td>\n",
       "      <td>926.000000</td>\n",
       "      <td>1012.000000</td>\n",
       "      <td>2.000000</td>\n",
       "      <td>12.000000</td>\n",
       "      <td>1.170000</td>\n",
       "      <td>1.000000</td>\n",
       "    </tr>\n",
       "    <tr>\n",
       "      <th>max</th>\n",
       "      <td>60.330000</td>\n",
       "      <td>157.000000</td>\n",
       "      <td>164.000000</td>\n",
       "      <td>53.000000</td>\n",
       "      <td>34.600000</td>\n",
       "      <td>95.100000</td>\n",
       "      <td>952.000000</td>\n",
       "      <td>947.000000</td>\n",
       "      <td>1061.000000</td>\n",
       "      <td>15.000000</td>\n",
       "      <td>...</td>\n",
       "      <td>55.000000</td>\n",
       "      <td>79.400000</td>\n",
       "      <td>94.800000</td>\n",
       "      <td>953.000000</td>\n",
       "      <td>950.000000</td>\n",
       "      <td>1063.000000</td>\n",
       "      <td>11.000000</td>\n",
       "      <td>15.000000</td>\n",
       "      <td>1.830000</td>\n",
       "      <td>1.000000</td>\n",
       "    </tr>\n",
       "  </tbody>\n",
       "</table>\n",
       "<p>8 rows × 25 columns</p>\n",
       "</div>"
      ],
      "text/plain": [
       "       H Fenwick Close        H GF        H GA    H GlDiff       H PP%  \\\n",
       "count       517.000000  517.000000  517.000000  517.000000  517.000000   \n",
       "mean         50.096074   83.640232   83.406190    0.234043   18.376209   \n",
       "std           3.736658   28.415354   29.053636   16.634738    4.099238   \n",
       "min          41.270000   28.000000   26.000000  -58.000000   10.400000   \n",
       "25%          47.190000   59.000000   60.000000  -11.000000   15.100000   \n",
       "50%          50.250000   84.000000   83.000000   -1.000000   17.900000   \n",
       "75%          52.980000  106.000000  105.000000   10.000000   21.000000   \n",
       "max          60.330000  157.000000  164.000000   53.000000   34.600000   \n",
       "\n",
       "            H PK%       H sh%       H sv%        H PDO  H win streak  \\\n",
       "count  517.000000  517.000000  517.000000   517.000000    517.000000   \n",
       "mean    81.646809  915.615087  915.916828  1000.301741      0.462282   \n",
       "std      4.211227   13.063975   13.503188    19.207603      2.638605   \n",
       "min     67.400000  871.000000  873.000000   958.000000     -7.000000   \n",
       "25%     78.700000  909.000000  907.000000   988.000000     -1.000000   \n",
       "50%     81.500000  917.000000  919.000000  1000.000000      1.000000   \n",
       "75%     84.200000  924.000000  925.000000  1012.000000      2.000000   \n",
       "max     95.100000  952.000000  947.000000  1061.000000     15.000000   \n",
       "\n",
       "          ...        A GlDiff       A PP%       A PK%       A sh%       A sv%  \\\n",
       "count     ...      517.000000  517.000000  517.000000  517.000000  517.000000   \n",
       "mean      ...       -0.191489   18.399226   81.447389  916.558994  916.272727   \n",
       "std       ...       16.070463    4.796999    4.912444   13.034648   13.849310   \n",
       "min       ...      -61.000000   10.300000   28.300000  870.000000  880.000000   \n",
       "25%       ...      -10.000000   15.200000   79.000000  910.000000  907.000000   \n",
       "50%       ...        0.000000   17.900000   81.400000  917.000000  919.000000   \n",
       "75%       ...        9.000000   20.800000   83.900000  925.000000  926.000000   \n",
       "max       ...       55.000000   79.400000   94.800000  953.000000  950.000000   \n",
       "\n",
       "             A PDO  A win streak  A standing   A 5-5 F/A    Home Win  \n",
       "count   517.000000    517.000000  517.000000  517.000000  517.000000  \n",
       "mean    999.713733      0.193424    8.135397    1.024662    0.586074  \n",
       "std      18.587298      2.294524    4.294968    0.225060    0.493013  \n",
       "min     960.000000     -7.000000    1.000000    0.520000    0.000000  \n",
       "25%     986.000000     -1.000000    4.000000    0.870000    0.000000  \n",
       "50%    1001.000000     -1.000000    8.000000    1.000000    1.000000  \n",
       "75%    1012.000000      2.000000   12.000000    1.170000    1.000000  \n",
       "max    1063.000000     11.000000   15.000000    1.830000    1.000000  \n",
       "\n",
       "[8 rows x 25 columns]"
      ]
     },
     "execution_count": 2,
     "metadata": {},
     "output_type": "execute_result"
    }
   ],
   "source": [
    "# As a recap, I'll examine the summary of statistics for the dataset\n",
    "\n",
    "df.describe()"
   ]
  },
  {
   "cell_type": "markdown",
   "metadata": {},
   "source": [
    "Let's test an easy hypothesis first.  According to the summary, the home team won a little less than 60% of the games.  In a perfect world, that should be closer to 50%.  So, null hypothesis number one: the home team won 50% of the games."
   ]
  },
  {
   "cell_type": "code",
   "execution_count": 3,
   "metadata": {},
   "outputs": [
    {
     "name": "stdout",
     "output_type": "stream",
     "text": [
      "p-value for home team mean win test is 0.0\n"
     ]
    }
   ],
   "source": [
    "# For this test, I'll create many samples of the season's worth of data under the assumption that a random number, \n",
    "# either 1 for home team wins or 0 for home team loses, represents the game result, and compare the means of the\n",
    "# test season wins to the observed mean for the actual season wins\n",
    "\n",
    "obs_win_mean = np.mean(df['Home Win'])\n",
    "\n",
    "test_games = np.empty(len(df))\n",
    "test_results = np.empty(10000)\n",
    "\n",
    "for i in range(10000):\n",
    "    for j in range(len(test_games)):\n",
    "        test_games[j] = np.random.randint(2)\n",
    "    test_results[i] = np.mean(test_games)\n",
    "    \n",
    "hyp_test_one_pval = sum(test_results >= obs_win_mean) / 10000\n",
    "print('p-value for home team mean win test is',hyp_test_one_pval)"
   ]
  },
  {
   "cell_type": "code",
   "execution_count": 4,
   "metadata": {},
   "outputs": [
    {
     "name": "stdout",
     "output_type": "stream",
     "text": [
      "t-statistic is 3.96969061784\n",
      "p-value is 8.21738323855e-05\n"
     ]
    }
   ],
   "source": [
    "# Also, there's the Scipy one sample t-test for comparison\n",
    "\n",
    "import scipy\n",
    "from scipy import stats\n",
    "\n",
    "t_test_tstat,t_test_pval = scipy.stats.ttest_1samp(df['Home Win'], 0.5)\n",
    "print('t-statistic is',t_test_tstat)\n",
    "print('p-value is',t_test_pval)"
   ]
  },
  {
   "cell_type": "code",
   "execution_count": 5,
   "metadata": {},
   "outputs": [
    {
     "data": {
      "image/png": "[encoded data removed]",
      "text/plain": [
       "<matplotlib.figure.Figure at 0xbd63b00>"
      ]
     },
     "metadata": {},
     "output_type": "display_data"
    }
   ],
   "source": [
    "# Now I'll construct a histogram to show the distribution of the means of the test wins\n",
    "\n",
    "sns.set(color_codes=True)\n",
    "sns.distplot(test_results,bins=int(np.sqrt(517)))\n",
    "plt.plot([(obs_win_mean),(obs_win_mean)],[0,18],color='red')\n",
    "plt.title('Distribution for mean of test home wins')\n",
    "plt.text(0.54,15,'Observed')\n",
    "plt.text(0.54,13.5,'Mean')\n",
    "plt.arrow(0.565,13.8,0.012,0)\n",
    "plt.show()"
   ]
  },
  {
   "cell_type": "markdown",
   "metadata": {},
   "source": [
    "Both p-values are very small and the histogram clearly shows the observed mean far greater than the test mean, so the null hypothesis can be rejected, since there is statistical evidence that the home team won more than 50% of the games.\n",
    "\n",
    "Another easy hypothesis to test is between the goal difference for the home team and the away team.  According to the summary, the home team had a positive mean goal difference and the away team had a negative mean goal difference.  In a perfect world, those values would be the same.  So, null hypothesis number two: the difference between the mean goal differences of the home and away teams was 0."
   ]
  },
  {
   "cell_type": "code",
   "execution_count": 6,
   "metadata": {},
   "outputs": [
    {
     "name": "stdout",
     "output_type": "stream",
     "text": [
      "t-statistic from mean goal difference test is 0.418322247182\n",
      "p-value from mean goal difference test is 0.675798663093\n"
     ]
    }
   ],
   "source": [
    "# For this hypothesis, a two sample t-test should work well\n",
    "\n",
    "t2_test_tstat, t2_test_pval = scipy.stats.ttest_ind(df['H GlDiff'],df['A GlDiff'],equal_var=False)\n",
    "\n",
    "print('t-statistic from mean goal difference test is',t2_test_tstat)\n",
    "print('p-value from mean goal difference test is',t2_test_pval)"
   ]
  },
  {
   "cell_type": "markdown",
   "metadata": {},
   "source": [
    "Interesting.  The high p-value suggest the null hypothesis cannot be rejected.\n",
    "\n",
    "From the story telling module, the 3 statistics that seem to have the most impact on team standing are goal difference, full strength goal ratio, and PDO or luck.  I'll see what the correlation coefficients for those are.  I'll use the Spearman test because I don't know if the distributions are normal."
   ]
  },
  {
   "cell_type": "code",
   "execution_count": 11,
   "metadata": {},
   "outputs": [
    {
     "name": "stdout",
     "output_type": "stream",
     "text": [
      "Correlation of home goal difference to standing is -0.858594112885\n",
      "Correlation of home full strength goal ratio to standing is -0.783239734024\n",
      "Correlation of home pdo or luck to standing is -0.628317171207\n",
      "Correlation of away goal difference to standing is -0.83393454621\n",
      "Correlation of away full strength goal ratio to standing is -0.756080632326\n",
      "Correlation of away pdo or luck to standing is -0.605594857676\n"
     ]
    }
   ],
   "source": [
    "from scipy.stats import spearmanr\n",
    "\n",
    "h_gldiff_corr = spearmanr(df['H GlDiff'], df['H standing'])\n",
    "h_fa_corr = spearmanr(df['H 5-5 F/A'], df['H standing'])\n",
    "h_pdo_corr = spearmanr(df['H PDO'], df['H standing'])\n",
    "a_gldiff_corr = spearmanr(df['A GlDiff'], df['A standing'])\n",
    "a_fa_corr = spearmanr(df['A 5-5 F/A'], df['A standing'])\n",
    "a_pdo_corr = spearmanr(df['A PDO'], df['A standing'])\n",
    "\n",
    "print('Correlation of home goal difference to standing is',h_gldiff_corr.correlation)\n",
    "print('Correlation of home full strength goal ratio to standing is',h_fa_corr.correlation)\n",
    "print('Correlation of home pdo or luck to standing is',h_pdo_corr.correlation)\n",
    "print('Correlation of away goal difference to standing is',a_gldiff_corr.correlation)\n",
    "print('Correlation of away full strength goal ratio to standing is',a_fa_corr.correlation)\n",
    "print('Correlation of away pdo or luck to standing is',a_pdo_corr.correlation)"
   ]
  },
  {
   "cell_type": "markdown",
   "metadata": {},
   "source": [
    "They all have negative correlations, which was expected.  In both cases, the goal difference has a greater correlation than the full strength goal ratio, which in turn has a greater correlation than pdo.  And also in all cases, the correlations for the home teams are greater than the away teams.  Does this suggest the home teams have more influence on the outcome of the game, although not by much?\n",
    "\n",
    "The desired outcome of this project is to find the probability of predicting a home win for a given game, so rather than look at standings, which are easier to visualize, I'll also run the correlation against the actual home win column."
   ]
  },
  {
   "cell_type": "code",
   "execution_count": 12,
   "metadata": {},
   "outputs": [
    {
     "name": "stdout",
     "output_type": "stream",
     "text": [
      "Correlation of home goal difference to home team win is 0.108594861032\n",
      "Correlation of home full strength goal ratio to home team win is 0.0769764024523\n",
      "Correlation of home PDO or luck to home team win is -0.00313187820171\n",
      "Correlation of away goal difference to home team win is -0.100108562433\n",
      "Correlation of away full strength goal ratio to home team win is -0.0665165539607\n",
      "Correlation of away PDO or luck to home team win is -0.0606635871359\n"
     ]
    }
   ],
   "source": [
    "h_gldiff_corr = spearmanr(df['H GlDiff'], df['Home Win'])\n",
    "h_fa_corr = spearmanr(df['H 5-5 F/A'], df['Home Win'])\n",
    "h_pdo_corr = spearmanr(df['H PDO'], df['Home Win'])\n",
    "a_gldiff_corr = spearmanr(df['A GlDiff'], df['Home Win'])\n",
    "a_fa_corr = spearmanr(df['A 5-5 F/A'], df['Home Win'])\n",
    "a_pdo_corr = spearmanr(df['A PDO'], df['Home Win'])\n",
    "\n",
    "print('Correlation of home goal difference to home team win is',h_gldiff_corr.correlation)\n",
    "print('Correlation of home full strength goal ratio to home team win is',h_fa_corr.correlation)\n",
    "print('Correlation of home PDO or luck to home team win is',h_pdo_corr.correlation)\n",
    "print('Correlation of away goal difference to home team win is',a_gldiff_corr.correlation)\n",
    "print('Correlation of away full strength goal ratio to home team win is',a_fa_corr.correlation)\n",
    "print('Correlation of away PDO or luck to home team win is',a_pdo_corr.correlation)"
   ]
  },
  {
   "cell_type": "markdown",
   "metadata": {},
   "source": [
    "Those are much smaller values.  However, the results are similar to the results versus the standing regarding the weight of the correlations.  Also, 2 of the home teams' values positively affect the home team winning and all of the away teams' values negatively affect the home team winning.  The away team values are no surprise, but apparently PDO, or luck, negatively affects the home teams' winning.  This time however, the PDO value for the away team has a greater correlation than for the home team, so, like the data visualization module, perhaps the away team wins more due to luck than the home team does.\n",
    "\n",
    "Well then, like before, I'll try some of the other statistics that didn't seem as impactful as well."
   ]
  },
  {
   "cell_type": "code",
   "execution_count": 13,
   "metadata": {},
   "outputs": [
    {
     "name": "stdout",
     "output_type": "stream",
     "text": [
      "Correlation of home fenwick close to home team win is 0.107594912024\n",
      "Correlation of home power play % to home team win is 0.00660495470368\n",
      "Correlation of home penalty kill % to home team win is 0.0890216906726\n",
      "Correlation of away fenwick close to home team win is -0.0352729093513\n",
      "Correlation of away power play % to home team win is -0.0715503978477\n",
      "Correlation of away penalty kill % to home team win is -0.0516689223862\n"
     ]
    }
   ],
   "source": [
    "h_fc_corr = spearmanr(df['H Fenwick Close'], df['Home Win'])\n",
    "h_pp_corr = spearmanr(df['H PP%'], df['Home Win'])\n",
    "h_pk_corr = spearmanr(df['H PK%'], df['Home Win'])\n",
    "a_fc_corr = spearmanr(df['A Fenwick Close'], df['Home Win'])\n",
    "a_pp_corr = spearmanr(df['A PP%'], df['Home Win'])\n",
    "a_pk_corr = spearmanr(df['A PK%'], df['Home Win'])\n",
    "\n",
    "print('Correlation of home fenwick close to home team win is',h_fc_corr.correlation)\n",
    "print('Correlation of home power play % to home team win is',h_pp_corr.correlation)\n",
    "print('Correlation of home penalty kill % to home team win is',h_pk_corr.correlation)\n",
    "print('Correlation of away fenwick close to home team win is',a_fc_corr.correlation)\n",
    "print('Correlation of away power play % to home team win is',a_pp_corr.correlation)\n",
    "print('Correlation of away penalty kill % to home team win is',a_pk_corr.correlation)"
   ]
  },
  {
   "cell_type": "markdown",
   "metadata": {},
   "source": [
    "Well, those results are quite varied.  For home teams, fenwick close and penalty kill are as important as goal difference, while power play is much lower, even less than PDO.  But for away teams, the opposite seems to be true, power play has the greatest correlation, and fenwick close and penalty kill are lower, but still greater than PDO.  Together, all these results show some trends to look at for the final project analysis.  Ignoring the obvious goal difference, the home teams seemed to benefit most from full strength puck possession, penalty kill, and full strength goal ratio, and the away teams seemed to benefit most from full strength goal ratio, power play, and PDO, or luck.  That last part sounds perhaps disappointing for the away teams.  I'll have to see if my final results agree with these initial observations."
   ]
  }
 ],
 "metadata": {
  "kernelspec": {
   "display_name": "Python 3",
   "language": "python",
   "name": "python3"
  },
  "language_info": {
   "codemirror_mode": {
    "name": "ipython",
    "version": 3
   },
   "file_extension": ".py",
   "mimetype": "text/x-python",
   "name": "python",
   "nbconvert_exporter": "python",
   "pygments_lexer": "ipython3",
   "version": "3.6.3"
  }
 },
 "nbformat": 4,
 "nbformat_minor": 2
}
