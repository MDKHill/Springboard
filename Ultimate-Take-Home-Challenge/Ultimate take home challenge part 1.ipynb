{
 "cells": [
  {
   "cell_type": "code",
   "execution_count": 71,
   "metadata": {},
   "outputs": [],
   "source": [
    "# Start by loading in some basics\n",
    "\n",
    "import pandas as pd\n",
    "import numpy as np\n",
    "import matplotlib.pyplot as plt\n",
    "import json\n",
    "\n",
    "#plt.rcParams['figure.figsize'] = 12, 10"
   ]
  },
  {
   "cell_type": "code",
   "execution_count": 2,
   "metadata": {},
   "outputs": [
    {
     "data": {
      "text/html": [
       "<div>\n",
       "<style scoped>\n",
       "    .dataframe tbody tr th:only-of-type {\n",
       "        vertical-align: middle;\n",
       "    }\n",
       "\n",
       "    .dataframe tbody tr th {\n",
       "        vertical-align: top;\n",
       "    }\n",
       "\n",
       "    .dataframe thead th {\n",
       "        text-align: right;\n",
       "    }\n",
       "</style>\n",
       "<table border=\"1\" class=\"dataframe\">\n",
       "  <thead>\n",
       "    <tr style=\"text-align: right;\">\n",
       "      <th></th>\n",
       "      <th>login_time</th>\n",
       "    </tr>\n",
       "  </thead>\n",
       "  <tbody>\n",
       "    <tr>\n",
       "      <th>0</th>\n",
       "      <td>1970-01-01 20:13:18</td>\n",
       "    </tr>\n",
       "    <tr>\n",
       "      <th>1</th>\n",
       "      <td>1970-01-01 20:16:10</td>\n",
       "    </tr>\n",
       "    <tr>\n",
       "      <th>2</th>\n",
       "      <td>1970-01-01 20:16:37</td>\n",
       "    </tr>\n",
       "    <tr>\n",
       "      <th>3</th>\n",
       "      <td>1970-01-01 20:16:36</td>\n",
       "    </tr>\n",
       "    <tr>\n",
       "      <th>4</th>\n",
       "      <td>1970-01-01 20:26:21</td>\n",
       "    </tr>\n",
       "  </tbody>\n",
       "</table>\n",
       "</div>"
      ],
      "text/plain": [
       "            login_time\n",
       "0  1970-01-01 20:13:18\n",
       "1  1970-01-01 20:16:10\n",
       "2  1970-01-01 20:16:37\n",
       "3  1970-01-01 20:16:36\n",
       "4  1970-01-01 20:26:21"
      ]
     },
     "execution_count": 2,
     "metadata": {},
     "output_type": "execute_result"
    }
   ],
   "source": [
    "# Read in the file, make it a dataframe and examine the data\n",
    "\n",
    "with open('C:/Users/mdkhi/Documents/ultimate_challenge/logins.json', 'r') as read_file:\n",
    "    data = json.load(read_file)\n",
    "    \n",
    "df = pd.DataFrame(data)\n",
    "\n",
    "df.head()"
   ]
  },
  {
   "cell_type": "code",
   "execution_count": 95,
   "metadata": {},
   "outputs": [
    {
     "data": {
      "text/html": [
       "<div>\n",
       "<style scoped>\n",
       "    .dataframe tbody tr th:only-of-type {\n",
       "        vertical-align: middle;\n",
       "    }\n",
       "\n",
       "    .dataframe tbody tr th {\n",
       "        vertical-align: top;\n",
       "    }\n",
       "\n",
       "    .dataframe thead th {\n",
       "        text-align: right;\n",
       "    }\n",
       "</style>\n",
       "<table border=\"1\" class=\"dataframe\">\n",
       "  <thead>\n",
       "    <tr style=\"text-align: right;\">\n",
       "      <th></th>\n",
       "      <th>Login</th>\n",
       "      <th>Weekday</th>\n",
       "      <th>Time batch</th>\n",
       "      <th>Month</th>\n",
       "    </tr>\n",
       "  </thead>\n",
       "  <tbody>\n",
       "    <tr>\n",
       "      <th>93137</th>\n",
       "      <td>1970-04-13 18:50:19</td>\n",
       "      <td>0</td>\n",
       "      <td>18.75</td>\n",
       "      <td>4</td>\n",
       "    </tr>\n",
       "    <tr>\n",
       "      <th>93138</th>\n",
       "      <td>1970-04-13 18:43:56</td>\n",
       "      <td>0</td>\n",
       "      <td>18.50</td>\n",
       "      <td>4</td>\n",
       "    </tr>\n",
       "    <tr>\n",
       "      <th>93139</th>\n",
       "      <td>1970-04-13 18:54:02</td>\n",
       "      <td>0</td>\n",
       "      <td>18.75</td>\n",
       "      <td>4</td>\n",
       "    </tr>\n",
       "    <tr>\n",
       "      <th>93140</th>\n",
       "      <td>1970-04-13 18:57:38</td>\n",
       "      <td>0</td>\n",
       "      <td>18.75</td>\n",
       "      <td>4</td>\n",
       "    </tr>\n",
       "    <tr>\n",
       "      <th>93141</th>\n",
       "      <td>1970-04-13 18:54:23</td>\n",
       "      <td>0</td>\n",
       "      <td>18.75</td>\n",
       "      <td>4</td>\n",
       "    </tr>\n",
       "  </tbody>\n",
       "</table>\n",
       "</div>"
      ],
      "text/plain": [
       "                    Login  Weekday  Time batch  Month\n",
       "93137 1970-04-13 18:50:19        0       18.75      4\n",
       "93138 1970-04-13 18:43:56        0       18.50      4\n",
       "93139 1970-04-13 18:54:02        0       18.75      4\n",
       "93140 1970-04-13 18:57:38        0       18.75      4\n",
       "93141 1970-04-13 18:54:23        0       18.75      4"
      ]
     },
     "execution_count": 95,
     "metadata": {},
     "output_type": "execute_result"
    }
   ],
   "source": [
    "df.tail()"
   ]
  },
  {
   "cell_type": "code",
   "execution_count": 3,
   "metadata": {},
   "outputs": [
    {
     "name": "stdout",
     "output_type": "stream",
     "text": [
      "<class 'pandas.core.frame.DataFrame'>\n",
      "RangeIndex: 93142 entries, 0 to 93141\n",
      "Data columns (total 1 columns):\n",
      "login_time    93142 non-null object\n",
      "dtypes: object(1)\n",
      "memory usage: 727.8+ KB\n"
     ]
    }
   ],
   "source": [
    "df.info()"
   ]
  },
  {
   "cell_type": "code",
   "execution_count": 4,
   "metadata": {},
   "outputs": [
    {
     "data": {
      "text/html": [
       "<div>\n",
       "<style scoped>\n",
       "    .dataframe tbody tr th:only-of-type {\n",
       "        vertical-align: middle;\n",
       "    }\n",
       "\n",
       "    .dataframe tbody tr th {\n",
       "        vertical-align: top;\n",
       "    }\n",
       "\n",
       "    .dataframe thead th {\n",
       "        text-align: right;\n",
       "    }\n",
       "</style>\n",
       "<table border=\"1\" class=\"dataframe\">\n",
       "  <thead>\n",
       "    <tr style=\"text-align: right;\">\n",
       "      <th></th>\n",
       "      <th>Login</th>\n",
       "    </tr>\n",
       "  </thead>\n",
       "  <tbody>\n",
       "    <tr>\n",
       "      <th>0</th>\n",
       "      <td>1970-01-01 20:13:18</td>\n",
       "    </tr>\n",
       "    <tr>\n",
       "      <th>1</th>\n",
       "      <td>1970-01-01 20:16:10</td>\n",
       "    </tr>\n",
       "    <tr>\n",
       "      <th>2</th>\n",
       "      <td>1970-01-01 20:16:37</td>\n",
       "    </tr>\n",
       "    <tr>\n",
       "      <th>3</th>\n",
       "      <td>1970-01-01 20:16:36</td>\n",
       "    </tr>\n",
       "    <tr>\n",
       "      <th>4</th>\n",
       "      <td>1970-01-01 20:26:21</td>\n",
       "    </tr>\n",
       "  </tbody>\n",
       "</table>\n",
       "</div>"
      ],
      "text/plain": [
       "                Login\n",
       "0 1970-01-01 20:13:18\n",
       "1 1970-01-01 20:16:10\n",
       "2 1970-01-01 20:16:37\n",
       "3 1970-01-01 20:16:36\n",
       "4 1970-01-01 20:26:21"
      ]
     },
     "execution_count": 4,
     "metadata": {},
     "output_type": "execute_result"
    }
   ],
   "source": [
    "# It'll be easier to work with datetimes than strings, so do a little conversion and examine the data again\n",
    "\n",
    "from datetime import datetime\n",
    "\n",
    "test = []\n",
    "\n",
    "for i in range(len(df)):\n",
    "    test.append(datetime.strptime(df[i:(i+1)]['login_time'].to_string(index=False),'%Y-%m-%d %H:%M:%S'))\n",
    "    \n",
    "df = pd.DataFrame(test,columns=['Login'])\n",
    "df.head()"
   ]
  },
  {
   "cell_type": "code",
   "execution_count": 5,
   "metadata": {},
   "outputs": [
    {
     "name": "stdout",
     "output_type": "stream",
     "text": [
      "<class 'pandas.core.frame.DataFrame'>\n",
      "RangeIndex: 93142 entries, 0 to 93141\n",
      "Data columns (total 1 columns):\n",
      "Login    93142 non-null datetime64[ns]\n",
      "dtypes: datetime64[ns](1)\n",
      "memory usage: 727.8 KB\n"
     ]
    }
   ],
   "source": [
    "df.info()"
   ]
  },
  {
   "cell_type": "code",
   "execution_count": 22,
   "metadata": {},
   "outputs": [
    {
     "data": {
      "text/html": [
       "<div>\n",
       "<style scoped>\n",
       "    .dataframe tbody tr th:only-of-type {\n",
       "        vertical-align: middle;\n",
       "    }\n",
       "\n",
       "    .dataframe tbody tr th {\n",
       "        vertical-align: top;\n",
       "    }\n",
       "\n",
       "    .dataframe thead th {\n",
       "        text-align: right;\n",
       "    }\n",
       "</style>\n",
       "<table border=\"1\" class=\"dataframe\">\n",
       "  <thead>\n",
       "    <tr style=\"text-align: right;\">\n",
       "      <th></th>\n",
       "      <th>Login</th>\n",
       "      <th>Weekday</th>\n",
       "      <th>Time batch</th>\n",
       "    </tr>\n",
       "  </thead>\n",
       "  <tbody>\n",
       "    <tr>\n",
       "      <th>0</th>\n",
       "      <td>1970-01-01 20:13:18</td>\n",
       "      <td>3</td>\n",
       "      <td>20.00</td>\n",
       "    </tr>\n",
       "    <tr>\n",
       "      <th>1</th>\n",
       "      <td>1970-01-01 20:16:10</td>\n",
       "      <td>3</td>\n",
       "      <td>20.25</td>\n",
       "    </tr>\n",
       "    <tr>\n",
       "      <th>2</th>\n",
       "      <td>1970-01-01 20:16:37</td>\n",
       "      <td>3</td>\n",
       "      <td>20.25</td>\n",
       "    </tr>\n",
       "    <tr>\n",
       "      <th>3</th>\n",
       "      <td>1970-01-01 20:16:36</td>\n",
       "      <td>3</td>\n",
       "      <td>20.25</td>\n",
       "    </tr>\n",
       "    <tr>\n",
       "      <th>4</th>\n",
       "      <td>1970-01-01 20:26:21</td>\n",
       "      <td>3</td>\n",
       "      <td>20.25</td>\n",
       "    </tr>\n",
       "  </tbody>\n",
       "</table>\n",
       "</div>"
      ],
      "text/plain": [
       "                Login  Weekday  Time batch\n",
       "0 1970-01-01 20:13:18        3       20.00\n",
       "1 1970-01-01 20:16:10        3       20.25\n",
       "2 1970-01-01 20:16:37        3       20.25\n",
       "3 1970-01-01 20:16:36        3       20.25\n",
       "4 1970-01-01 20:26:21        3       20.25"
      ]
     },
     "execution_count": 22,
     "metadata": {},
     "output_type": "execute_result"
    }
   ],
   "source": [
    "# That's better.  Now, the problem is asking for 15 minute intervals and trends such as daily cycles, so let's gather that\n",
    "# kind of information.  For the record, in datetime's weekday function, Monday is 0 through Sunday is 6.  Also, let's\n",
    "# convert the time to a float with quarter hour increments\n",
    "\n",
    "weekdays = [item.weekday() for item in df['Login']]\n",
    "time_batch = [int((item.hour*4) + (item.minute/15)) for item in df['Login']]\n",
    "\n",
    "df['Weekday'] = weekdays\n",
    "df['Time batch'] = time_batch\n",
    "df['Time batch'] /= 4\n",
    "\n",
    "df.head()"
   ]
  },
  {
   "cell_type": "code",
   "execution_count": 23,
   "metadata": {},
   "outputs": [
    {
     "name": "stdout",
     "output_type": "stream",
     "text": [
      "<class 'pandas.core.frame.DataFrame'>\n",
      "RangeIndex: 93142 entries, 0 to 93141\n",
      "Data columns (total 3 columns):\n",
      "Login         93142 non-null datetime64[ns]\n",
      "Weekday       93142 non-null int64\n",
      "Time batch    93142 non-null float64\n",
      "dtypes: datetime64[ns](1), float64(1), int64(1)\n",
      "memory usage: 2.1 MB\n"
     ]
    }
   ],
   "source": [
    "df.info()"
   ]
  },
  {
   "cell_type": "code",
   "execution_count": 27,
   "metadata": {},
   "outputs": [
    {
     "name": "stdout",
     "output_type": "stream",
     "text": [
      "0     8823\n",
      "1     9268\n",
      "2    10339\n",
      "3    11960\n",
      "4    15208\n",
      "5    19377\n",
      "6    18167\n",
      "dtype: int64\n"
     ]
    }
   ],
   "source": [
    "# Looking good.  Now, let's find some trends.\n",
    "\n",
    "traffic_by_day = pd.value_counts(df['Weekday'].values, sort=False)\n",
    "print(traffic_by_day)"
   ]
  },
  {
   "cell_type": "code",
   "execution_count": 39,
   "metadata": {},
   "outputs": [
    {
     "data": {
      "image/png": "[encoded data removed]",
      "text/plain": [
       "<Figure size 432x288 with 1 Axes>"
      ]
     },
     "metadata": {},
     "output_type": "display_data"
    }
   ],
   "source": [
    "# So, business grows steadily from Monday to Thursday, jumps up Friday, jumps up again Saturday, drops a little on Sunday\n",
    "# and plummets back down to start agin on Monday.\n",
    "\n",
    "plt.bar(np.arange(7),traffic_by_day)\n",
    "plt.xticks(np.arange(7),['Monday','Tuesday','Wednesday','Thursday','Friday','Saturday','Sunday'],rotation=45)\n",
    "plt.title('Logins by Day')\n",
    "plt.ylabel('Number of logins')\n",
    "plt.show()"
   ]
  },
  {
   "cell_type": "code",
   "execution_count": 46,
   "metadata": {},
   "outputs": [
    {
     "name": "stdout",
     "output_type": "stream",
     "text": [
      "0.00     1439\n",
      "0.25     1547\n",
      "0.50     1525\n",
      "0.75     1482\n",
      "1.00     1549\n",
      "1.25     1598\n",
      "1.50     1673\n",
      "1.75     1497\n",
      "2.00     1509\n",
      "2.25     1526\n",
      "2.50     1429\n",
      "2.75     1336\n",
      "3.00     1275\n",
      "3.25     1302\n",
      "3.50     1162\n",
      "3.75     1092\n",
      "4.00     1132\n",
      "4.25     1164\n",
      "4.50     1334\n",
      "4.75     1404\n",
      "5.00     1173\n",
      "5.25      770\n",
      "5.50      545\n",
      "5.75      457\n",
      "6.00      369\n",
      "6.25      320\n",
      "6.50      235\n",
      "6.75      214\n",
      "7.00      219\n",
      "7.25      229\n",
      "         ... \n",
      "16.50     700\n",
      "16.75     714\n",
      "17.00     637\n",
      "17.25     612\n",
      "17.50     644\n",
      "17.75     691\n",
      "18.00     697\n",
      "18.25     690\n",
      "18.50     767\n",
      "18.75     826\n",
      "19.00     768\n",
      "19.25     744\n",
      "19.50     842\n",
      "19.75     881\n",
      "20.00     849\n",
      "20.25     970\n",
      "20.50    1069\n",
      "20.75    1215\n",
      "21.00    1252\n",
      "21.25    1325\n",
      "21.50    1492\n",
      "21.75    1554\n",
      "22.00    1634\n",
      "22.25    1652\n",
      "22.50    1684\n",
      "22.75    1637\n",
      "23.00    1573\n",
      "23.25    1552\n",
      "23.50    1456\n",
      "23.75    1477\n",
      "Length: 96, dtype: int64\n"
     ]
    }
   ],
   "source": [
    "traffic_by_hour = pd.value_counts(df['Time batch'].values).sort_index()\n",
    "print(traffic_by_hour)"
   ]
  },
  {
   "cell_type": "code",
   "execution_count": 55,
   "metadata": {},
   "outputs": [
    {
     "data": {
      "image/png": "[encoded data removed]",
      "text/plain": [
       "<Figure size 432x288 with 1 Axes>"
      ]
     },
     "metadata": {},
     "output_type": "display_data"
    }
   ],
   "source": [
    "# That's not very useful.  Visually maybe.\n",
    "\n",
    "plt.bar(np.arange(96),traffic_by_hour)\n",
    "# Setup a list for the tick marks to be every 4th time batch, i.e. hourly\n",
    "xmarks=[i for i in range(0,96,4)]\n",
    "plt.xticks(xmarks,['12 AM','1 AM','2 AM','3 AM','4 AM','5 AM','6 AM','7 AM','8 AM','9 AM','10 AM','11 AM','12 PM','1 PM','2 PM','3 PM','4 PM','5 PM','6 PM','7 PM','8 PM','9 PM','10 PM','11 PM'], rotation=75)\n",
    "plt.title('Logins by Hour')\n",
    "plt.ylabel('Number of logins')\n",
    "plt.show()"
   ]
  },
  {
   "cell_type": "code",
   "execution_count": 91,
   "metadata": {},
   "outputs": [
    {
     "data": {
      "image/png": "[encoded data removed]",
      "text/plain": [
       "<Figure size 1152x864 with 7 Axes>"
      ]
     },
     "metadata": {},
     "output_type": "display_data"
    }
   ],
   "source": [
    "# OK, now to combine those 2 plots and break everything down by day and hour.\n",
    "\n",
    "mon_traffic_by_hour = df[df['Weekday'] == 0]\n",
    "mon_traffic_by_hour = pd.value_counts(mon_traffic_by_hour['Time batch'].values).sort_index()\n",
    "tue_traffic_by_hour = df[df['Weekday'] == 1]\n",
    "tue_traffic_by_hour = pd.value_counts(tue_traffic_by_hour['Time batch'].values).sort_index()\n",
    "wed_traffic_by_hour = df[df['Weekday'] == 2]\n",
    "wed_traffic_by_hour = pd.value_counts(wed_traffic_by_hour['Time batch'].values).sort_index()\n",
    "thu_traffic_by_hour = df[df['Weekday'] == 3]\n",
    "thu_traffic_by_hour = pd.value_counts(thu_traffic_by_hour['Time batch'].values).sort_index()\n",
    "fri_traffic_by_hour = df[df['Weekday'] == 4]\n",
    "fri_traffic_by_hour = pd.value_counts(fri_traffic_by_hour['Time batch'].values).sort_index()\n",
    "sat_traffic_by_hour = df[df['Weekday'] == 5]\n",
    "sat_traffic_by_hour = pd.value_counts(sat_traffic_by_hour['Time batch'].values).sort_index()\n",
    "sun_traffic_by_hour = df[df['Weekday'] == 6]\n",
    "sun_traffic_by_hour = pd.value_counts(sun_traffic_by_hour['Time batch'].values).sort_index()\n",
    "\n",
    "plt.figure(figsize=(16,12))\n",
    "\n",
    "plt.subplot(331)\n",
    "plt.bar(np.arange(96),mon_traffic_by_hour)\n",
    "plt.xticks(xmarks,['12 AM','1 AM','2 AM','3 AM','4 AM','5 AM','6 AM','7 AM','8 AM','9 AM','10 AM','11 AM','12 PM','1 PM','2 PM','3 PM','4 PM','5 PM','6 PM','7 PM','8 PM','9 PM','10 PM','11 PM'], rotation=75)\n",
    "plt.title('Logins by Hour on Mondays')\n",
    "plt.ylim((0,600))\n",
    "plt.ylabel('Number of logins')\n",
    "\n",
    "plt.subplot(332)\n",
    "plt.bar(np.arange(96),tue_traffic_by_hour)\n",
    "plt.xticks(xmarks,['12 AM','1 AM','2 AM','3 AM','4 AM','5 AM','6 AM','7 AM','8 AM','9 AM','10 AM','11 AM','12 PM','1 PM','2 PM','3 PM','4 PM','5 PM','6 PM','7 PM','8 PM','9 PM','10 PM','11 PM'], rotation=75)\n",
    "plt.title('Logins by Hour on Tuesdays')\n",
    "plt.ylim((0,600))\n",
    "plt.ylabel('Number of logins')\n",
    "\n",
    "plt.subplot(333)\n",
    "plt.bar(np.arange(96),wed_traffic_by_hour)\n",
    "plt.xticks(xmarks,['12 AM','1 AM','2 AM','3 AM','4 AM','5 AM','6 AM','7 AM','8 AM','9 AM','10 AM','11 AM','12 PM','1 PM','2 PM','3 PM','4 PM','5 PM','6 PM','7 PM','8 PM','9 PM','10 PM','11 PM'], rotation=75)\n",
    "plt.title('Logins by Hour on Wednesdays')\n",
    "plt.ylim((0,600))\n",
    "plt.ylabel('Number of logins')\n",
    "\n",
    "plt.subplot(334)\n",
    "plt.bar(np.arange(96),thu_traffic_by_hour)\n",
    "plt.xticks(xmarks,['12 AM','1 AM','2 AM','3 AM','4 AM','5 AM','6 AM','7 AM','8 AM','9 AM','10 AM','11 AM','12 PM','1 PM','2 PM','3 PM','4 PM','5 PM','6 PM','7 PM','8 PM','9 PM','10 PM','11 PM'], rotation=75)\n",
    "plt.title('Logins by Hour on Thursdays')\n",
    "plt.ylim((0,600))\n",
    "plt.ylabel('Number of logins')\n",
    "\n",
    "plt.subplot(335)\n",
    "plt.bar(np.arange(96),fri_traffic_by_hour)\n",
    "plt.xticks(xmarks,['12 AM','1 AM','2 AM','3 AM','4 AM','5 AM','6 AM','7 AM','8 AM','9 AM','10 AM','11 AM','12 PM','1 PM','2 PM','3 PM','4 PM','5 PM','6 PM','7 PM','8 PM','9 PM','10 PM','11 PM'], rotation=75)\n",
    "plt.title('Logins by Hour on Fridays')\n",
    "plt.ylim((0,600))\n",
    "plt.ylabel('Number of logins')\n",
    "\n",
    "plt.subplot(337)\n",
    "plt.bar(np.arange(96),sat_traffic_by_hour)\n",
    "plt.xticks(xmarks,['12 AM','1 AM','2 AM','3 AM','4 AM','5 AM','6 AM','7 AM','8 AM','9 AM','10 AM','11 AM','12 PM','1 PM','2 PM','3 PM','4 PM','5 PM','6 PM','7 PM','8 PM','9 PM','10 PM','11 PM'], rotation=75)\n",
    "plt.title('Logins by Hour on Saturdays')\n",
    "plt.ylim((0,600))\n",
    "plt.ylabel('Number of logins')\n",
    "\n",
    "plt.subplot(338)\n",
    "plt.bar(np.arange(96),sun_traffic_by_hour)\n",
    "plt.xticks(xmarks,['12 AM','1 AM','2 AM','3 AM','4 AM','5 AM','6 AM','7 AM','8 AM','9 AM','10 AM','11 AM','12 PM','1 PM','2 PM','3 PM','4 PM','5 PM','6 PM','7 PM','8 PM','9 PM','10 PM','11 PM'], rotation=75)\n",
    "plt.title('Logins by Hour on Sundays')\n",
    "plt.ylabel('Number of logins')\n",
    "\n",
    "plt.tight_layout()\n",
    "\n",
    "plt.show()"
   ]
  },
  {
   "cell_type": "markdown",
   "metadata": {},
   "source": [
    "Weekdays all show similar patterns, a spike in logins between 11 am and noon around 300, and an increase between\n",
    "9 pm and 11 pm which grows a little from Monday, around 150, to Wednesday, around 200.  By Thursday that increase\n",
    "is about as high as the midday spike, at around 300, and by Friday that increase is greater than the midday spike,\n",
    "at around 400.  Weekends show different trends, with Saturdays showing peak logins between 1 am and 5 am, around 400,\n",
    "a low peak between 1 pm and 4 pm, around 200, and a middle peak between 10 pm and 11 pm, just under 300.  Sundays show\n",
    "the busiest peak of all, beginning at midnight, around 300, and growing until 5 am, around 600, with a small peak \n",
    "between 2 pm and 5 pm, around 200."
   ]
  },
  {
   "cell_type": "code",
   "execution_count": 98,
   "metadata": {},
   "outputs": [
    {
     "name": "stdout",
     "output_type": "stream",
     "text": [
      "1     685.129032\n",
      "2     881.178571\n",
      "3    1087.838710\n",
      "4    1039.000000\n",
      "dtype: float64\n"
     ]
    }
   ],
   "source": [
    "months = [item.month for item in df['Login']]\n",
    "\n",
    "df['Month'] = months\n",
    "\n",
    "traffic_by_month = pd.value_counts(df['Month'].values, sort=False)\n",
    "# \"Normalize\" by day\n",
    "traffic_by_month[0:1] /= 31\n",
    "traffic_by_month[1:2] /= 28\n",
    "traffic_by_month[2:3] /= 31\n",
    "# Only 13 days worth of data in April\n",
    "traffic_by_month[3:4] /= 13\n",
    "\n",
    "print(traffic_by_month)"
   ]
  },
  {
   "cell_type": "code",
   "execution_count": null,
   "metadata": {},
   "outputs": [],
   "source": [
    "# Monthly data isn't as useful, because the last month only contains data until the 13th, but it does show growth, so\n",
    "# perhaps this analysis should be done again when more data is available."
   ]
  }
 ],
 "metadata": {
  "kernelspec": {
   "display_name": "Python 3",
   "language": "python",
   "name": "python3"
  },
  "language_info": {
   "codemirror_mode": {
    "name": "ipython",
    "version": 3
   },
   "file_extension": ".py",
   "mimetype": "text/x-python",
   "name": "python",
   "nbconvert_exporter": "python",
   "pygments_lexer": "ipython3",
   "version": "3.6.5"
  }
 },
 "nbformat": 4,
 "nbformat_minor": 2
}
