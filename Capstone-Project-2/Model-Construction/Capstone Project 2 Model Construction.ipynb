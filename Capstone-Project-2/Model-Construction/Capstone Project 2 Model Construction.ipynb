{
 "cells": [
  {
   "cell_type": "markdown",
   "metadata": {},
   "source": [
    "This is the model construction part of my capstone project 2."
   ]
  },
  {
   "cell_type": "code",
   "execution_count": 1,
   "metadata": {
    "collapsed": true
   },
   "outputs": [],
   "source": [
    "import pandas as pd\n",
    "import numpy as np\n",
    "import matplotlib.pyplot as plt"
   ]
  },
  {
   "cell_type": "code",
   "execution_count": 2,
   "metadata": {},
   "outputs": [
    {
     "data": {
      "text/html": [
       "<div>\n",
       "<style>\n",
       "    .dataframe thead tr:only-child th {\n",
       "        text-align: right;\n",
       "    }\n",
       "\n",
       "    .dataframe thead th {\n",
       "        text-align: left;\n",
       "    }\n",
       "\n",
       "    .dataframe tbody tr th {\n",
       "        vertical-align: top;\n",
       "    }\n",
       "</style>\n",
       "<table border=\"1\" class=\"dataframe\">\n",
       "  <thead>\n",
       "    <tr style=\"text-align: right;\">\n",
       "      <th></th>\n",
       "      <th>Player</th>\n",
       "      <th>Team</th>\n",
       "      <th>Position</th>\n",
       "      <th>Date of Birth</th>\n",
       "      <th>Nationality</th>\n",
       "      <th>Height (in)</th>\n",
       "      <th>Weight (lbs)</th>\n",
       "      <th>Draft Year</th>\n",
       "      <th>Draft Round</th>\n",
       "      <th>GP</th>\n",
       "      <th>...</th>\n",
       "      <th>Rebounds Created</th>\n",
       "      <th>PIM</th>\n",
       "      <th>Penalties Drawn</th>\n",
       "      <th>Giveaways</th>\n",
       "      <th>Takeaways</th>\n",
       "      <th>Hits</th>\n",
       "      <th>Hits Taken</th>\n",
       "      <th>Shots Blocked</th>\n",
       "      <th>Faceoffs %</th>\n",
       "      <th>Season</th>\n",
       "    </tr>\n",
       "  </thead>\n",
       "  <tbody>\n",
       "    <tr>\n",
       "      <th>0</th>\n",
       "      <td>Aaron Downey</td>\n",
       "      <td>DET</td>\n",
       "      <td>R</td>\n",
       "      <td>1974-08-27</td>\n",
       "      <td>CAN</td>\n",
       "      <td>73</td>\n",
       "      <td>215</td>\n",
       "      <td>NaN</td>\n",
       "      <td>NaN</td>\n",
       "      <td>56</td>\n",
       "      <td>...</td>\n",
       "      <td>1</td>\n",
       "      <td>116</td>\n",
       "      <td>21</td>\n",
       "      <td>4</td>\n",
       "      <td>3</td>\n",
       "      <td>79</td>\n",
       "      <td>48</td>\n",
       "      <td>6</td>\n",
       "      <td>NaN</td>\n",
       "      <td>2007-2008</td>\n",
       "    </tr>\n",
       "    <tr>\n",
       "      <th>1</th>\n",
       "      <td>Aaron Johnson</td>\n",
       "      <td>NYI</td>\n",
       "      <td>D</td>\n",
       "      <td>1983-04-30</td>\n",
       "      <td>CAN</td>\n",
       "      <td>73</td>\n",
       "      <td>204</td>\n",
       "      <td>2001.0</td>\n",
       "      <td>3.0</td>\n",
       "      <td>30</td>\n",
       "      <td>...</td>\n",
       "      <td>1</td>\n",
       "      <td>30</td>\n",
       "      <td>4</td>\n",
       "      <td>16</td>\n",
       "      <td>18</td>\n",
       "      <td>41</td>\n",
       "      <td>39</td>\n",
       "      <td>28</td>\n",
       "      <td>NaN</td>\n",
       "      <td>2007-2008</td>\n",
       "    </tr>\n",
       "    <tr>\n",
       "      <th>2</th>\n",
       "      <td>Aaron Miller</td>\n",
       "      <td>VAN</td>\n",
       "      <td>D</td>\n",
       "      <td>1971-08-11</td>\n",
       "      <td>USA</td>\n",
       "      <td>75</td>\n",
       "      <td>210</td>\n",
       "      <td>1989.0</td>\n",
       "      <td>5.0</td>\n",
       "      <td>57</td>\n",
       "      <td>...</td>\n",
       "      <td>5</td>\n",
       "      <td>32</td>\n",
       "      <td>4</td>\n",
       "      <td>29</td>\n",
       "      <td>15</td>\n",
       "      <td>37</td>\n",
       "      <td>74</td>\n",
       "      <td>80</td>\n",
       "      <td>NaN</td>\n",
       "      <td>2007-2008</td>\n",
       "    </tr>\n",
       "    <tr>\n",
       "      <th>3</th>\n",
       "      <td>Aaron Rome</td>\n",
       "      <td>CBJ</td>\n",
       "      <td>D</td>\n",
       "      <td>1983-09-27</td>\n",
       "      <td>CAN</td>\n",
       "      <td>73</td>\n",
       "      <td>220</td>\n",
       "      <td>2002.0</td>\n",
       "      <td>4.0</td>\n",
       "      <td>17</td>\n",
       "      <td>...</td>\n",
       "      <td>2</td>\n",
       "      <td>33</td>\n",
       "      <td>5</td>\n",
       "      <td>4</td>\n",
       "      <td>2</td>\n",
       "      <td>33</td>\n",
       "      <td>22</td>\n",
       "      <td>17</td>\n",
       "      <td>NaN</td>\n",
       "      <td>2007-2008</td>\n",
       "    </tr>\n",
       "    <tr>\n",
       "      <th>4</th>\n",
       "      <td>Aaron Voros</td>\n",
       "      <td>MIN</td>\n",
       "      <td>L</td>\n",
       "      <td>1981-07-02</td>\n",
       "      <td>CAN</td>\n",
       "      <td>74</td>\n",
       "      <td>210</td>\n",
       "      <td>2001.0</td>\n",
       "      <td>8.0</td>\n",
       "      <td>55</td>\n",
       "      <td>...</td>\n",
       "      <td>8</td>\n",
       "      <td>141</td>\n",
       "      <td>32</td>\n",
       "      <td>10</td>\n",
       "      <td>8</td>\n",
       "      <td>96</td>\n",
       "      <td>67</td>\n",
       "      <td>5</td>\n",
       "      <td>20.0</td>\n",
       "      <td>2007-2008</td>\n",
       "    </tr>\n",
       "  </tbody>\n",
       "</table>\n",
       "<p>5 rows × 38 columns</p>\n",
       "</div>"
      ],
      "text/plain": [
       "          Player Team Position Date of Birth Nationality  Height (in)  \\\n",
       "0   Aaron Downey  DET        R    1974-08-27         CAN           73   \n",
       "1  Aaron Johnson  NYI        D    1983-04-30         CAN           73   \n",
       "2   Aaron Miller  VAN        D    1971-08-11         USA           75   \n",
       "3     Aaron Rome  CBJ        D    1983-09-27         CAN           73   \n",
       "4    Aaron Voros  MIN        L    1981-07-02         CAN           74   \n",
       "\n",
       "   Weight (lbs)  Draft Year  Draft Round  GP    ...      Rebounds Created  \\\n",
       "0           215         NaN          NaN  56    ...                     1   \n",
       "1           204      2001.0          3.0  30    ...                     1   \n",
       "2           210      1989.0          5.0  57    ...                     5   \n",
       "3           220      2002.0          4.0  17    ...                     2   \n",
       "4           210      2001.0          8.0  55    ...                     8   \n",
       "\n",
       "   PIM  Penalties Drawn  Giveaways  Takeaways  Hits  Hits Taken  \\\n",
       "0  116               21          4          3    79          48   \n",
       "1   30                4         16         18    41          39   \n",
       "2   32                4         29         15    37          74   \n",
       "3   33                5          4          2    33          22   \n",
       "4  141               32         10          8    96          67   \n",
       "\n",
       "   Shots Blocked  Faceoffs %     Season  \n",
       "0              6         NaN  2007-2008  \n",
       "1             28         NaN  2007-2008  \n",
       "2             80         NaN  2007-2008  \n",
       "3             17         NaN  2007-2008  \n",
       "4              5        20.0  2007-2008  \n",
       "\n",
       "[5 rows x 38 columns]"
      ]
     },
     "execution_count": 2,
     "metadata": {},
     "output_type": "execute_result"
    }
   ],
   "source": [
    "# Start by reading in the data and remembering the first few observations\n",
    "\n",
    "# On laptop:\n",
    "#df = pd.read_csv('C:/Users/mdkhi/Documents/Capstone Project 2/data/Complete Data.csv', index_col=0, na_values=['-'])\n",
    "\n",
    "# On desktop:\n",
    "df = pd.read_csv('C:/Users/Hill HP 2015/Documents/Springboard/Capstone Project 2/data/Complete Data.csv', index_col=0, na_values=['-'])\n",
    "\n",
    "df.head()"
   ]
  },
  {
   "cell_type": "code",
   "execution_count": 3,
   "metadata": {
    "collapsed": true
   },
   "outputs": [],
   "source": [
    "# I'll need to put in the player's age to add that to the regression model.  I'll calculate that using the player's birth year\n",
    "# and the season beginning year.\n",
    "\n",
    "age_list = np.empty(len(df))\n",
    "\n",
    "for i in range(len(age_list)):\n",
    "    age_list[i] = 0\n",
    "    \n",
    "for i in range(len(df)):\n",
    "    age = (int(df[i:(i+1)]['Season'].str[0:4]) - int(df[i:(i+1)]['Date of Birth'].str[0:4]))\n",
    "    age_list[i] = age\n",
    "    \n",
    "df['Age'] = age_list"
   ]
  },
  {
   "cell_type": "code",
   "execution_count": 4,
   "metadata": {},
   "outputs": [
    {
     "name": "stderr",
     "output_type": "stream",
     "text": [
      "C:\\Users\\Hill HP 2015\\Anaconda3\\lib\\site-packages\\ipykernel_launcher.py:5: SettingWithCopyWarning: \n",
      "A value is trying to be set on a copy of a slice from a DataFrame.\n",
      "Try using .loc[row_indexer,col_indexer] = value instead\n",
      "\n",
      "See the caveats in the documentation: http://pandas.pydata.org/pandas-docs/stable/indexing.html#indexing-view-versus-copy\n",
      "  \"\"\"\n"
     ]
    },
    {
     "data": {
      "text/html": [
       "<div>\n",
       "<style>\n",
       "    .dataframe thead tr:only-child th {\n",
       "        text-align: right;\n",
       "    }\n",
       "\n",
       "    .dataframe thead th {\n",
       "        text-align: left;\n",
       "    }\n",
       "\n",
       "    .dataframe tbody tr th {\n",
       "        vertical-align: top;\n",
       "    }\n",
       "</style>\n",
       "<table border=\"1\" class=\"dataframe\">\n",
       "  <thead>\n",
       "    <tr style=\"text-align: right;\">\n",
       "      <th></th>\n",
       "      <th>Player</th>\n",
       "      <th>Team</th>\n",
       "      <th>Position</th>\n",
       "      <th>Date of Birth</th>\n",
       "      <th>Height (in)</th>\n",
       "      <th>Weight (lbs)</th>\n",
       "      <th>Draft Year</th>\n",
       "      <th>Draft Round</th>\n",
       "      <th>GP</th>\n",
       "      <th>TOI</th>\n",
       "      <th>...</th>\n",
       "      <th>Season</th>\n",
       "      <th>Age</th>\n",
       "      <th>Nationality_CAN</th>\n",
       "      <th>Nationality_CZE</th>\n",
       "      <th>Nationality_FIN</th>\n",
       "      <th>Nationality_OTH</th>\n",
       "      <th>Nationality_RUS</th>\n",
       "      <th>Nationality_SVK</th>\n",
       "      <th>Nationality_SWE</th>\n",
       "      <th>Nationality_USA</th>\n",
       "    </tr>\n",
       "  </thead>\n",
       "  <tbody>\n",
       "    <tr>\n",
       "      <th>0</th>\n",
       "      <td>Aaron Downey</td>\n",
       "      <td>DET</td>\n",
       "      <td>R</td>\n",
       "      <td>1974-08-27</td>\n",
       "      <td>73</td>\n",
       "      <td>215</td>\n",
       "      <td>NaN</td>\n",
       "      <td>NaN</td>\n",
       "      <td>56</td>\n",
       "      <td>256.933333</td>\n",
       "      <td>...</td>\n",
       "      <td>2007-2008</td>\n",
       "      <td>33.0</td>\n",
       "      <td>1</td>\n",
       "      <td>0</td>\n",
       "      <td>0</td>\n",
       "      <td>0</td>\n",
       "      <td>0</td>\n",
       "      <td>0</td>\n",
       "      <td>0</td>\n",
       "      <td>0</td>\n",
       "    </tr>\n",
       "    <tr>\n",
       "      <th>1</th>\n",
       "      <td>Aaron Johnson</td>\n",
       "      <td>NYI</td>\n",
       "      <td>D</td>\n",
       "      <td>1983-04-30</td>\n",
       "      <td>73</td>\n",
       "      <td>204</td>\n",
       "      <td>2001.0</td>\n",
       "      <td>3.0</td>\n",
       "      <td>30</td>\n",
       "      <td>415.850000</td>\n",
       "      <td>...</td>\n",
       "      <td>2007-2008</td>\n",
       "      <td>24.0</td>\n",
       "      <td>1</td>\n",
       "      <td>0</td>\n",
       "      <td>0</td>\n",
       "      <td>0</td>\n",
       "      <td>0</td>\n",
       "      <td>0</td>\n",
       "      <td>0</td>\n",
       "      <td>0</td>\n",
       "    </tr>\n",
       "    <tr>\n",
       "      <th>2</th>\n",
       "      <td>Aaron Miller</td>\n",
       "      <td>VAN</td>\n",
       "      <td>D</td>\n",
       "      <td>1971-08-11</td>\n",
       "      <td>75</td>\n",
       "      <td>210</td>\n",
       "      <td>1989.0</td>\n",
       "      <td>5.0</td>\n",
       "      <td>57</td>\n",
       "      <td>988.183333</td>\n",
       "      <td>...</td>\n",
       "      <td>2007-2008</td>\n",
       "      <td>36.0</td>\n",
       "      <td>0</td>\n",
       "      <td>0</td>\n",
       "      <td>0</td>\n",
       "      <td>0</td>\n",
       "      <td>0</td>\n",
       "      <td>0</td>\n",
       "      <td>0</td>\n",
       "      <td>1</td>\n",
       "    </tr>\n",
       "    <tr>\n",
       "      <th>3</th>\n",
       "      <td>Aaron Rome</td>\n",
       "      <td>CBJ</td>\n",
       "      <td>D</td>\n",
       "      <td>1983-09-27</td>\n",
       "      <td>73</td>\n",
       "      <td>220</td>\n",
       "      <td>2002.0</td>\n",
       "      <td>4.0</td>\n",
       "      <td>17</td>\n",
       "      <td>309.033333</td>\n",
       "      <td>...</td>\n",
       "      <td>2007-2008</td>\n",
       "      <td>24.0</td>\n",
       "      <td>1</td>\n",
       "      <td>0</td>\n",
       "      <td>0</td>\n",
       "      <td>0</td>\n",
       "      <td>0</td>\n",
       "      <td>0</td>\n",
       "      <td>0</td>\n",
       "      <td>0</td>\n",
       "    </tr>\n",
       "    <tr>\n",
       "      <th>4</th>\n",
       "      <td>Aaron Voros</td>\n",
       "      <td>MIN</td>\n",
       "      <td>L</td>\n",
       "      <td>1981-07-02</td>\n",
       "      <td>74</td>\n",
       "      <td>210</td>\n",
       "      <td>2001.0</td>\n",
       "      <td>8.0</td>\n",
       "      <td>55</td>\n",
       "      <td>504.600000</td>\n",
       "      <td>...</td>\n",
       "      <td>2007-2008</td>\n",
       "      <td>26.0</td>\n",
       "      <td>1</td>\n",
       "      <td>0</td>\n",
       "      <td>0</td>\n",
       "      <td>0</td>\n",
       "      <td>0</td>\n",
       "      <td>0</td>\n",
       "      <td>0</td>\n",
       "      <td>0</td>\n",
       "    </tr>\n",
       "  </tbody>\n",
       "</table>\n",
       "<p>5 rows × 46 columns</p>\n",
       "</div>"
      ],
      "text/plain": [
       "          Player Team Position Date of Birth  Height (in)  Weight (lbs)  \\\n",
       "0   Aaron Downey  DET        R    1974-08-27           73           215   \n",
       "1  Aaron Johnson  NYI        D    1983-04-30           73           204   \n",
       "2   Aaron Miller  VAN        D    1971-08-11           75           210   \n",
       "3     Aaron Rome  CBJ        D    1983-09-27           73           220   \n",
       "4    Aaron Voros  MIN        L    1981-07-02           74           210   \n",
       "\n",
       "   Draft Year  Draft Round  GP         TOI       ...            Season   Age  \\\n",
       "0         NaN          NaN  56  256.933333       ...         2007-2008  33.0   \n",
       "1      2001.0          3.0  30  415.850000       ...         2007-2008  24.0   \n",
       "2      1989.0          5.0  57  988.183333       ...         2007-2008  36.0   \n",
       "3      2002.0          4.0  17  309.033333       ...         2007-2008  24.0   \n",
       "4      2001.0          8.0  55  504.600000       ...         2007-2008  26.0   \n",
       "\n",
       "   Nationality_CAN  Nationality_CZE  Nationality_FIN  Nationality_OTH  \\\n",
       "0                1                0                0                0   \n",
       "1                1                0                0                0   \n",
       "2                0                0                0                0   \n",
       "3                1                0                0                0   \n",
       "4                1                0                0                0   \n",
       "\n",
       "   Nationality_RUS  Nationality_SVK  Nationality_SWE  Nationality_USA  \n",
       "0                0                0                0                0  \n",
       "1                0                0                0                0  \n",
       "2                0                0                0                1  \n",
       "3                0                0                0                0  \n",
       "4                0                0                0                0  \n",
       "\n",
       "[5 rows x 46 columns]"
      ]
     },
     "execution_count": 4,
     "metadata": {},
     "output_type": "execute_result"
    }
   ],
   "source": [
    "# I'd like to use player nationality also, so I'll have to code a dummy value for each one.\n",
    "\n",
    "# Split off the smaller countries to code as OTH\n",
    "df_oth = df[(df['Nationality'] != 'CAN') & (df['Nationality'] != 'USA') & (df['Nationality'] != 'SWE') & (df['Nationality'] != 'CZE') & (df['Nationality'] != 'RUS')& (df['Nationality'] != 'FIN') & (df['Nationality'] != 'SVK')]\n",
    "df_oth['Nationality'] = 'OTH'\n",
    "\n",
    "df_temp = df[(df['Nationality'] == 'CAN') | (df['Nationality'] == 'USA') | (df['Nationality'] == 'SWE') | (df['Nationality'] == 'CZE') | (df['Nationality'] == 'RUS') | (df['Nationality'] == 'FIN') | (df['Nationality'] == 'SVK')]\n",
    "\n",
    "df = pd.concat([df_temp,df_oth])\n",
    "\n",
    "# Pandas get dummies function does the work for me\n",
    "df = pd.get_dummies(df,columns=['Nationality'])\n",
    "\n",
    "df.head()"
   ]
  },
  {
   "cell_type": "code",
   "execution_count": 5,
   "metadata": {
    "collapsed": true
   },
   "outputs": [],
   "source": [
    "# I was going to split off the most recent season for testing, but the results of the models were so bad, I decided\n",
    "# not to and just use all the data for training.  I'll leave this section here in case something changes later.\n",
    "\n",
    "# I'll set the target data as the 2017-18 season of the data and use the other seasons to train the model.\n",
    "\n",
    "#target = df[df['Season'] == '2017-2018']\n",
    "#df = df[df['Season'] != '2017-2018']\n",
    "\n",
    "#target.head()"
   ]
  },
  {
   "cell_type": "code",
   "execution_count": 6,
   "metadata": {
    "collapsed": true
   },
   "outputs": [],
   "source": [
    "import statsmodels.formula.api as sm\n",
    "from sklearn.linear_model import LinearRegression\n",
    "from sklearn.model_selection import train_test_split"
   ]
  },
  {
   "cell_type": "code",
   "execution_count": 7,
   "metadata": {
    "collapsed": true
   },
   "outputs": [],
   "source": [
    "# I'll start by splitting to train and test for points.\n",
    "\n",
    "X_train_pts, X_test_pts, y_train_pts, y_test_pts = train_test_split(df[['Height (in)','Weight (lbs)','Age','Nationality_CAN','Nationality_USA','Nationality_SWE','Nationality_CZE','Nationality_RUS','Nationality_FIN','Nationality_SVK','Nationality_OTH']], df['Total Points'])"
   ]
  },
  {
   "cell_type": "code",
   "execution_count": 51,
   "metadata": {},
   "outputs": [
    {
     "name": "stdout",
     "output_type": "stream",
     "text": [
      "                            OLS Regression Results                            \n",
      "==============================================================================\n",
      "Dep. Variable:           total_points   R-squared:                       0.004\n",
      "Model:                            OLS   Adj. R-squared:                  0.004\n",
      "Method:                 Least Squares   F-statistic:                     42.96\n",
      "Date:                Wed, 01 Aug 2018   Prob (F-statistic):           5.87e-11\n",
      "Time:                        13:33:24   Log-Likelihood:                -42955.\n",
      "No. Observations:                9706   AIC:                         8.591e+04\n",
      "Df Residuals:                    9704   BIC:                         8.593e+04\n",
      "Df Model:                           1                                         \n",
      "Covariance Type:            nonrobust                                         \n",
      "==============================================================================\n",
      "                 coef    std err          t      P>|t|      [0.025      0.975]\n",
      "------------------------------------------------------------------------------\n",
      "Intercept     66.2384      7.077      9.360      0.000      52.366      80.110\n",
      "test_var      -0.6338      0.097     -6.554      0.000      -0.823      -0.444\n",
      "==============================================================================\n",
      "Omnibus:                     1736.460   Durbin-Watson:                   1.958\n",
      "Prob(Omnibus):                  0.000   Jarque-Bera (JB):             2858.574\n",
      "Skew:                           1.216   Prob(JB):                         0.00\n",
      "Kurtosis:                       4.072   Cond. No.                     2.52e+03\n",
      "==============================================================================\n",
      "\n",
      "Warnings:\n",
      "[1] Standard Errors assume that the covariance matrix of the errors is correctly specified.\n",
      "[2] The condition number is large, 2.52e+03. This might indicate that there are\n",
      "strong multicollinearity or other numerical problems.\n"
     ]
    }
   ],
   "source": [
    "# I've read that StatsModels is good for initial testing, but SKLearn is better for optimimzing, so I'll start there.\n",
    "# First, I'll test the metrics one by one, then I'll test them together to see which performs better.\n",
    "\n",
    "# Define the categories\n",
    "total_points = df['Total Points']\n",
    "test_var = df['Height (in)']\n",
    "\n",
    "pts_model = sm.ols('total_points ~ test_var', df)\n",
    "pts_results = pts_model.fit()\n",
    "\n",
    "print(pts_results.summary())"
   ]
  },
  {
   "cell_type": "code",
   "execution_count": 53,
   "metadata": {},
   "outputs": [
    {
     "name": "stdout",
     "output_type": "stream",
     "text": [
      "                            OLS Regression Results                            \n",
      "==============================================================================\n",
      "Dep. Variable:           total_points   R-squared:                       0.002\n",
      "Model:                            OLS   Adj. R-squared:                  0.002\n",
      "Method:                 Least Squares   F-statistic:                     23.92\n",
      "Date:                Wed, 01 Aug 2018   Prob (F-statistic):           1.02e-06\n",
      "Time:                        13:35:07   Log-Likelihood:                -42965.\n",
      "No. Observations:                9706   AIC:                         8.593e+04\n",
      "Df Residuals:                    9704   BIC:                         8.595e+04\n",
      "Df Model:                           1                                         \n",
      "Covariance Type:            nonrobust                                         \n",
      "==============================================================================\n",
      "                 coef    std err          t      P>|t|      [0.025      0.975]\n",
      "------------------------------------------------------------------------------\n",
      "Intercept     33.0236      2.696     12.247      0.000      27.738      38.309\n",
      "test_var      -0.0647      0.013     -4.891      0.000      -0.091      -0.039\n",
      "==============================================================================\n",
      "Omnibus:                     1724.278   Durbin-Watson:                   1.958\n",
      "Prob(Omnibus):                  0.000   Jarque-Bera (JB):             2825.926\n",
      "Skew:                           1.213   Prob(JB):                         0.00\n",
      "Kurtosis:                       4.052   Cond. No.                     2.68e+03\n",
      "==============================================================================\n",
      "\n",
      "Warnings:\n",
      "[1] Standard Errors assume that the covariance matrix of the errors is correctly specified.\n",
      "[2] The condition number is large, 2.68e+03. This might indicate that there are\n",
      "strong multicollinearity or other numerical problems.\n"
     ]
    }
   ],
   "source": [
    "# OK, that R^2 score is useless. Next category.\n",
    "\n",
    "# Redefine the test category\n",
    "test_var = df['Weight (lbs)']\n",
    "\n",
    "pts_model = sm.ols('total_points ~ test_var', df)\n",
    "pts_results = pts_model.fit()\n",
    "\n",
    "print(pts_results.summary())"
   ]
  },
  {
   "cell_type": "code",
   "execution_count": 54,
   "metadata": {},
   "outputs": [
    {
     "name": "stdout",
     "output_type": "stream",
     "text": [
      "                            OLS Regression Results                            \n",
      "==============================================================================\n",
      "Dep. Variable:           total_points   R-squared:                       0.018\n",
      "Model:                            OLS   Adj. R-squared:                  0.018\n",
      "Method:                 Least Squares   F-statistic:                     176.8\n",
      "Date:                Wed, 01 Aug 2018   Prob (F-statistic):           5.37e-40\n",
      "Time:                        13:36:31   Log-Likelihood:                -42889.\n",
      "No. Observations:                9706   AIC:                         8.578e+04\n",
      "Df Residuals:                    9704   BIC:                         8.580e+04\n",
      "Df Model:                           1                                         \n",
      "Covariance Type:            nonrobust                                         \n",
      "==============================================================================\n",
      "                 coef    std err          t      P>|t|      [0.025      0.975]\n",
      "------------------------------------------------------------------------------\n",
      "Intercept      4.1991      1.196      3.510      0.000       1.854       6.544\n",
      "test_var       0.5929      0.045     13.297      0.000       0.506       0.680\n",
      "==============================================================================\n",
      "Omnibus:                     1827.354   Durbin-Watson:                   1.962\n",
      "Prob(Omnibus):                  0.000   Jarque-Bera (JB):             3102.193\n",
      "Skew:                           1.250   Prob(JB):                         0.00\n",
      "Kurtosis:                       4.191   Cond. No.                         158.\n",
      "==============================================================================\n",
      "\n",
      "Warnings:\n",
      "[1] Standard Errors assume that the covariance matrix of the errors is correctly specified.\n"
     ]
    }
   ],
   "source": [
    "# Even more useless. Next.\n",
    "\n",
    "# Redefine the test category\n",
    "test_var = df['Age']\n",
    "\n",
    "pts_model = sm.ols('total_points ~ test_var', df)\n",
    "pts_results = pts_model.fit()\n",
    "\n",
    "print(pts_results.summary())"
   ]
  },
  {
   "cell_type": "code",
   "execution_count": 55,
   "metadata": {},
   "outputs": [
    {
     "name": "stdout",
     "output_type": "stream",
     "text": [
      "                            OLS Regression Results                            \n",
      "==============================================================================\n",
      "Dep. Variable:           total_points   R-squared:                       0.020\n",
      "Model:                            OLS   Adj. R-squared:                  0.019\n",
      "Method:                 Least Squares   F-statistic:                     24.23\n",
      "Date:                Wed, 01 Aug 2018   Prob (F-statistic):           3.16e-37\n",
      "Time:                        13:37:20   Log-Likelihood:                -42880.\n",
      "No. Observations:                9706   AIC:                         8.578e+04\n",
      "Df Residuals:                    9697   BIC:                         8.584e+04\n",
      "Df Model:                           8                                         \n",
      "Covariance Type:            nonrobust                                         \n",
      "===============================================================================\n",
      "                  coef    std err          t      P>|t|      [0.025      0.975]\n",
      "-------------------------------------------------------------------------------\n",
      "Intercept   -6.982e+12    9.4e+12     -0.743      0.457   -2.54e+13    1.14e+13\n",
      "test_var[0]  6.982e+12    9.4e+12      0.743      0.457   -1.14e+13    2.54e+13\n",
      "test_var[1]  6.982e+12    9.4e+12      0.743      0.457   -1.14e+13    2.54e+13\n",
      "test_var[2]  6.982e+12    9.4e+12      0.743      0.457   -1.14e+13    2.54e+13\n",
      "test_var[3]  6.982e+12    9.4e+12      0.743      0.457   -1.14e+13    2.54e+13\n",
      "test_var[4]  6.982e+12    9.4e+12      0.743      0.457   -1.14e+13    2.54e+13\n",
      "test_var[5]  6.982e+12    9.4e+12      0.743      0.457   -1.14e+13    2.54e+13\n",
      "test_var[6]  6.982e+12    9.4e+12      0.743      0.457   -1.14e+13    2.54e+13\n",
      "test_var[7]  6.982e+12    9.4e+12      0.743      0.457   -1.14e+13    2.54e+13\n",
      "==============================================================================\n",
      "Omnibus:                     1658.217   Durbin-Watson:                   1.977\n",
      "Prob(Omnibus):                  0.000   Jarque-Bera (JB):             2661.949\n",
      "Skew:                           1.186   Prob(JB):                         0.00\n",
      "Kurtosis:                       3.977   Cond. No.                     1.62e+14\n",
      "==============================================================================\n",
      "\n",
      "Warnings:\n",
      "[1] Standard Errors assume that the covariance matrix of the errors is correctly specified.\n",
      "[2] The smallest eigenvalue is 5.07e-25. This might indicate that there are\n",
      "strong multicollinearity problems or that the design matrix is singular.\n"
     ]
    }
   ],
   "source": [
    "# Well, that has the best R^2 score so far, but it's still useless.  Last individual category.\n",
    "\n",
    "# Redefine the test category\n",
    "test_var = df[['Nationality_CAN','Nationality_USA','Nationality_SWE','Nationality_CZE','Nationality_RUS','Nationality_FIN','Nationality_SVK','Nationality_OTH']]\n",
    "\n",
    "pts_model = sm.ols('total_points ~ test_var', df)\n",
    "pts_results = pts_model.fit()\n",
    "\n",
    "print(pts_results.summary())"
   ]
  },
  {
   "cell_type": "code",
   "execution_count": 56,
   "metadata": {},
   "outputs": [
    {
     "name": "stdout",
     "output_type": "stream",
     "text": [
      "                            OLS Regression Results                            \n",
      "==============================================================================\n",
      "Dep. Variable:           total_points   R-squared:                       0.043\n",
      "Model:                            OLS   Adj. R-squared:                  0.042\n",
      "Method:                 Least Squares   F-statistic:                     43.70\n",
      "Date:                Wed, 01 Aug 2018   Prob (F-statistic):           1.24e-85\n",
      "Time:                        13:38:16   Log-Likelihood:                -42763.\n",
      "No. Observations:                9706   AIC:                         8.555e+04\n",
      "Df Residuals:                    9695   BIC:                         8.563e+04\n",
      "Df Model:                          10                                         \n",
      "Covariance Type:            nonrobust                                         \n",
      "=================================================================================\n",
      "                    coef    std err          t      P>|t|      [0.025      0.975]\n",
      "---------------------------------------------------------------------------------\n",
      "Intercept        45.5219      7.232      6.294      0.000      31.345      59.699\n",
      "test_vars[0]     -0.5152      0.142     -3.629      0.000      -0.794      -0.237\n",
      "test_vars[1]     -0.0320      0.019     -1.641      0.101      -0.070       0.006\n",
      "test_vars[2]      0.6043      0.045     13.456      0.000       0.516       0.692\n",
      "test_vars[3]      1.6416      0.977      1.680      0.093      -0.274       3.557\n",
      "test_vars[4]     -0.0920      0.984     -0.093      0.926      -2.022       1.838\n",
      "test_vars[5]      7.5389      1.193      6.317      0.000       5.200       9.878\n",
      "test_vars[6]      7.2614      1.293      5.615      0.000       4.726       9.796\n",
      "test_vars[7]     11.5928      1.347      8.608      0.000       8.953      14.233\n",
      "test_vars[8]      5.7680      1.374      4.198      0.000       3.075       8.461\n",
      "test_vars[9]      6.8382      1.789      3.822      0.000       3.331      10.346\n",
      "test_vars[10]     4.9729      1.280      3.884      0.000       2.463       7.483\n",
      "==============================================================================\n",
      "Omnibus:                     1768.099   Durbin-Watson:                   1.978\n",
      "Prob(Omnibus):                  0.000   Jarque-Bera (JB):             2948.966\n",
      "Skew:                           1.225   Prob(JB):                         0.00\n",
      "Kurtosis:                       4.137   Cond. No.                     3.18e+17\n",
      "==============================================================================\n",
      "\n",
      "Warnings:\n",
      "[1] Standard Errors assume that the covariance matrix of the errors is correctly specified.\n",
      "[2] The smallest eigenvalue is 4.57e-27. This might indicate that there are\n",
      "strong multicollinearity problems or that the design matrix is singular.\n"
     ]
    }
   ],
   "source": [
    "# OK, a tiny bit better still.  How about everything together?\n",
    "\n",
    "# Combine the categories\n",
    "test_vars = df[['Height (in)','Weight (lbs)','Age','Nationality_CAN','Nationality_USA','Nationality_SWE','Nationality_CZE','Nationality_RUS','Nationality_FIN','Nationality_SVK','Nationality_OTH']]\n",
    "\n",
    "pts_model = sm.ols('total_points ~ test_vars', df)\n",
    "pts_results = pts_model.fit()\n",
    "\n",
    "print(pts_results.summary())"
   ]
  },
  {
   "cell_type": "code",
   "execution_count": 58,
   "metadata": {},
   "outputs": [],
   "source": [
    "plt.rcParams['figure.figsize'] = (12,8)"
   ]
  },
  {
   "cell_type": "code",
   "execution_count": 59,
   "metadata": {},
   "outputs": [
    {
     "data": {
      "image/png": "[encoded data removed]",
      "text/plain": [
       "<matplotlib.figure.Figure at 0x193faac8>"
      ]
     },
     "metadata": {},
     "output_type": "display_data"
    }
   ],
   "source": [
    "# Still a very low R^2 score. Let's see the histogram of the residuals.\n",
    "\n",
    "plt.hist(pts_results.resid, bins=int(np.sqrt(len(df))))\n",
    "plt.title('Histogram of points residuals')\n",
    "plt.show()"
   ]
  },
  {
   "cell_type": "code",
   "execution_count": 14,
   "metadata": {},
   "outputs": [
    {
     "name": "stdout",
     "output_type": "stream",
     "text": [
      "0.04077629854419074\n"
     ]
    }
   ],
   "source": [
    "# Let's see how SciKit-Learn compares.\n",
    "\n",
    "pts_lr = LinearRegression()\n",
    "\n",
    "pts_lr.fit(X_train_pts, y_train_pts)\n",
    "\n",
    "lr_score_train = pts_lr.score(X_train_pts, y_train_pts)\n",
    "print(lr_score_train)"
   ]
  },
  {
   "cell_type": "code",
   "execution_count": 15,
   "metadata": {},
   "outputs": [
    {
     "name": "stdout",
     "output_type": "stream",
     "text": [
      "0.04765603996556911\n"
     ]
    }
   ],
   "source": [
    "# Very similar score, as it should be.  I'll calculate the R^2 score on the test set to see if the model is overfitting.\n",
    "\n",
    "lr_score_test = pts_lr.score(X_test_pts, y_test_pts)\n",
    "print(lr_score_test)"
   ]
  },
  {
   "cell_type": "code",
   "execution_count": 16,
   "metadata": {},
   "outputs": [
    {
     "name": "stdout",
     "output_type": "stream",
     "text": [
      "386.1413001100163\n"
     ]
    }
   ],
   "source": [
    "# Maybe a little overfitting.  What's the RMSE on the training set?\n",
    "\n",
    "from sklearn.metrics import mean_squared_error\n",
    "\n",
    "lr_pts_rmse_train = mean_squared_error(y_train_pts, pts_lr.predict(X_train_pts))\n",
    "print(lr_pts_rmse_train)"
   ]
  },
  {
   "cell_type": "code",
   "execution_count": 17,
   "metadata": {},
   "outputs": [
    {
     "name": "stdout",
     "output_type": "stream",
     "text": [
      "414.148138606905\n"
     ]
    }
   ],
   "source": [
    "# And the RMSE on the test set?\n",
    "\n",
    "lr_pts_rmse_test = mean_squared_error(y_test_pts, pts_lr.predict(X_test_pts))\n",
    "print(lr_pts_rmse_test)"
   ]
  },
  {
   "cell_type": "code",
   "execution_count": 18,
   "metadata": {},
   "outputs": [
    {
     "name": "stdout",
     "output_type": "stream",
     "text": [
      "Score for 0.001 alpha and svd solver is : 0.04077629854413223\n",
      "Score for 0.01 alpha and svd solver is : 0.04077629853833631\n",
      "Score for 0.1 alpha and svd solver is : 0.040776297959077\n",
      "Score for 1 alpha and svd solver is : 0.04077624036482408\n",
      "Score for 10 alpha and svd solver is : 0.04077079190449473\n",
      "Score for 100 alpha and svd solver is : 0.04041704840204363\n",
      "Score for 1000 alpha and svd solver is : 0.03452818514643152\n",
      "\n",
      "\n",
      "Score for 0.001 alpha and cholesky solver is : 0.04077629854413223\n",
      "Score for 0.01 alpha and cholesky solver is : 0.0407762985383362\n",
      "Score for 0.1 alpha and cholesky solver is : 0.040776297959077\n",
      "Score for 1 alpha and cholesky solver is : 0.04077624036482408\n",
      "Score for 10 alpha and cholesky solver is : 0.04077079190449473\n",
      "Score for 100 alpha and cholesky solver is : 0.04041704840204363\n",
      "Score for 1000 alpha and cholesky solver is : 0.03452818514643152\n",
      "\n",
      "\n",
      "Score for 0.001 alpha and sparse_cg solver is : 0.040769392386162284\n",
      "Score for 0.01 alpha and sparse_cg solver is : 0.04076939238055377\n",
      "Score for 0.1 alpha and sparse_cg solver is : 0.04076939182575101\n",
      "Score for 1 alpha and sparse_cg solver is : 0.040769336616059304\n",
      "Score for 10 alpha and sparse_cg solver is : 0.04076408288881528\n",
      "Score for 100 alpha and sparse_cg solver is : 0.04041455450009768\n",
      "Score for 1000 alpha and sparse_cg solver is : 0.0345278320765352\n",
      "\n",
      "\n",
      "Score for 0.001 alpha and lsqr solver is : 0.039488979789004786\n",
      "Score for 0.01 alpha and lsqr solver is : 0.03948897978662291\n",
      "Score for 0.1 alpha and lsqr solver is : 0.039488979548481074\n",
      "Score for 1 alpha and lsqr solver is : 0.03948895578448952\n",
      "Score for 10 alpha and lsqr solver is : 0.039486628720413086\n",
      "Score for 100 alpha and lsqr solver is : 0.03929587228161713\n",
      "Score for 1000 alpha and lsqr solver is : 0.03434208817949158\n",
      "\n",
      "\n",
      "Score for 0.001 alpha and sag solver is : 0.04077469071308537\n",
      "Score for 0.01 alpha and sag solver is : 0.04077455924488038\n",
      "Score for 0.1 alpha and sag solver is : 0.0407746047886981\n",
      "Score for 1 alpha and sag solver is : 0.04077419952053296\n",
      "Score for 10 alpha and sag solver is : 0.040766026789197274\n",
      "Score for 100 alpha and sag solver is : 0.04039936173321168\n",
      "Score for 1000 alpha and sag solver is : 0.034527083063600306\n",
      "\n",
      "\n"
     ]
    }
   ],
   "source": [
    "# Time to try some regularization.\n",
    "\n",
    "from sklearn.linear_model import Ridge\n",
    "\n",
    "# I'll loop over several values to find the best ridge model\n",
    "alphas = [0.001, 0.01, 0.1, 1, 10, 100, 1000]\n",
    "solvers = ['svd', 'cholesky', 'sparse_cg', 'lsqr', 'sag']\n",
    "\n",
    "for solver in solvers:\n",
    "    for alpha in alphas:\n",
    "        pts_ridge = Ridge(alpha=alpha, solver=solver)\n",
    "        pts_ridge.fit(X_train_pts, y_train_pts)\n",
    "        \n",
    "        print('Score for {} alpha and {} solver is : {}'.format(alpha, solver, pts_ridge.score(X_train_pts, y_train_pts)))\n",
    "    print('\\n')"
   ]
  },
  {
   "cell_type": "code",
   "execution_count": 19,
   "metadata": {},
   "outputs": [
    {
     "name": "stdout",
     "output_type": "stream",
     "text": [
      "386.1413001100398\n"
     ]
    }
   ],
   "source": [
    "# Not any better.  RMSE on training?\n",
    "\n",
    "pts_ridge = Ridge(alpha=0.001, solver='svd')\n",
    "pts_ridge.fit(X_train_pts, y_train_pts)\n",
    "\n",
    "ridge_score_train = pts_ridge.score(X_train_pts, y_train_pts)\n",
    "ridge_score_test = pts_ridge.score(X_test_pts, y_test_pts)\n",
    "\n",
    "ridge_pts_rmse_train = mean_squared_error(y_train_pts, pts_ridge.predict(X_train_pts))\n",
    "print(ridge_pts_rmse_train)"
   ]
  },
  {
   "cell_type": "code",
   "execution_count": 20,
   "metadata": {},
   "outputs": [
    {
     "name": "stdout",
     "output_type": "stream",
     "text": [
      "414.1481425680973\n"
     ]
    }
   ],
   "source": [
    "# And test?\n",
    "\n",
    "ridge_pts_rmse_test = mean_squared_error(y_test_pts, pts_ridge.predict(X_test_pts))\n",
    "print(ridge_pts_rmse_test)"
   ]
  },
  {
   "cell_type": "code",
   "execution_count": 21,
   "metadata": {},
   "outputs": [
    {
     "name": "stdout",
     "output_type": "stream",
     "text": [
      "Score for 1e-05 alpha is : 0.040776298488479856\n",
      "Score for 0.0001 alpha is : 0.04077629338319233\n",
      "Score for 0.001 alpha is : 0.04077580746813403\n",
      "Score for 0.01 alpha is : 0.040727180466905266\n",
      "Score for 0.1 alpha is : 0.03947431663693901\n",
      "Score for 1 alpha is : 0.021376919453122922\n",
      "Score for 10 alpha is : 0.0077177392397010935\n"
     ]
    },
    {
     "name": "stderr",
     "output_type": "stream",
     "text": [
      "C:\\Users\\Hill HP 2015\\Anaconda3\\lib\\site-packages\\sklearn\\linear_model\\coordinate_descent.py:491: ConvergenceWarning: Objective did not converge. You might want to increase the number of iterations. Fitting data with very small alpha may cause precision problems.\n",
      "  ConvergenceWarning)\n"
     ]
    }
   ],
   "source": [
    "# Try Lasso.\n",
    "\n",
    "from sklearn.linear_model import Lasso\n",
    "\n",
    "alphas = [0.00001, 0.0001, 0.001, 0.01, 0.1, 1, 10]\n",
    "# And loop\n",
    "for alpha in alphas:\n",
    "    pts_lasso = Lasso(alpha=alpha)\n",
    "    pts_lasso.fit(X_train_pts, y_train_pts)\n",
    "        \n",
    "    print('Score for {} alpha is : {}'.format(alpha, pts_lasso.score(X_train_pts, y_train_pts)))"
   ]
  },
  {
   "cell_type": "code",
   "execution_count": 22,
   "metadata": {},
   "outputs": [
    {
     "name": "stdout",
     "output_type": "stream",
     "text": [
      "386.141300132443\n"
     ]
    },
    {
     "name": "stderr",
     "output_type": "stream",
     "text": [
      "C:\\Users\\Hill HP 2015\\Anaconda3\\lib\\site-packages\\sklearn\\linear_model\\coordinate_descent.py:491: ConvergenceWarning: Objective did not converge. You might want to increase the number of iterations. Fitting data with very small alpha may cause precision problems.\n",
      "  ConvergenceWarning)\n"
     ]
    }
   ],
   "source": [
    "# Same results.  RMSE on training?\n",
    "\n",
    "pts_lasso = Lasso(alpha=0.00001)\n",
    "pts_lasso.fit(X_train_pts, y_train_pts)\n",
    "\n",
    "lasso_score_train = pts_lasso.score(X_train_pts, y_train_pts)\n",
    "lasso_score_test = pts_lasso.score(X_test_pts, y_test_pts)\n",
    "\n",
    "lasso_pts_rmse_train = mean_squared_error(y_train_pts, pts_lasso.predict(X_train_pts))\n",
    "print(lasso_pts_rmse_train)"
   ]
  },
  {
   "cell_type": "code",
   "execution_count": 23,
   "metadata": {},
   "outputs": [
    {
     "name": "stdout",
     "output_type": "stream",
     "text": [
      "414.1481633095788\n"
     ]
    }
   ],
   "source": [
    "# And test?\n",
    "\n",
    "lasso_pts_rmse_test = mean_squared_error(y_test_pts, pts_lasso.predict(X_test_pts))\n",
    "print(lasso_pts_rmse_test)"
   ]
  },
  {
   "cell_type": "code",
   "execution_count": 24,
   "metadata": {
    "collapsed": true
   },
   "outputs": [],
   "source": [
    "# The lack of improvement with either regularization suggests the model is not overfitting.\n",
    "# Points prediction via linear regression looks like a bust.  How about puck possession, aka Corsi?\n",
    "\n",
    "# Create a new train test split for CF%\n",
    "X_train_cf, X_test_cf, y_train_cf, y_test_cf = train_test_split(df[['Height (in)','Weight (lbs)','Age','Nationality_CAN','Nationality_USA','Nationality_SWE','Nationality_CZE','Nationality_RUS','Nationality_FIN','Nationality_SVK','Nationality_OTH']], df['CF%'])"
   ]
  },
  {
   "cell_type": "code",
   "execution_count": 25,
   "metadata": {},
   "outputs": [
    {
     "name": "stdout",
     "output_type": "stream",
     "text": [
      "                            OLS Regression Results                            \n",
      "==============================================================================\n",
      "Dep. Variable:             target_var   R-squared:                       0.040\n",
      "Model:                            OLS   Adj. R-squared:                  0.039\n",
      "Method:                 Least Squares   F-statistic:                     40.29\n",
      "Date:                Wed, 01 Aug 2018   Prob (F-statistic):           1.12e-78\n",
      "Time:                        13:13:38   Log-Likelihood:                -33835.\n",
      "No. Observations:                9706   AIC:                         6.769e+04\n",
      "Df Residuals:                    9695   BIC:                         6.777e+04\n",
      "Df Model:                          10                                         \n",
      "Covariance Type:            nonrobust                                         \n",
      "=================================================================================\n",
      "                    coef    std err          t      P>|t|      [0.025      0.975]\n",
      "---------------------------------------------------------------------------------\n",
      "Intercept        71.2790      2.883     24.727      0.000      65.628      76.930\n",
      "test_vars[0]     -0.3083      0.057     -5.448      0.000      -0.419      -0.197\n",
      "test_vars[1]     -0.0224      0.008     -2.886      0.004      -0.038      -0.007\n",
      "test_vars[2]     -0.0817      0.018     -4.566      0.000      -0.117      -0.047\n",
      "test_vars[3]      6.5953      0.389     16.935      0.000       5.832       7.359\n",
      "test_vars[4]      6.7861      0.392     17.296      0.000       6.017       7.555\n",
      "test_vars[5]      9.3175      0.476     19.589      0.000       8.385      10.250\n",
      "test_vars[6]      9.9971      0.515     19.395      0.000       8.987      11.007\n",
      "test_vars[7]     10.8239      0.537     20.164      0.000       9.772      11.876\n",
      "test_vars[8]      8.7481      0.548     15.976      0.000       7.675       9.821\n",
      "test_vars[9]     10.5914      0.713     14.851      0.000       9.193      11.989\n",
      "test_vars[10]     8.4196      0.510     16.499      0.000       7.419       9.420\n",
      "==============================================================================\n",
      "Omnibus:                     1191.973   Durbin-Watson:                   1.970\n",
      "Prob(Omnibus):                  0.000   Jarque-Bera (JB):             4250.294\n",
      "Skew:                          -0.600   Prob(JB):                         0.00\n",
      "Kurtosis:                       6.012   Cond. No.                     3.18e+17\n",
      "==============================================================================\n",
      "\n",
      "Warnings:\n",
      "[1] Standard Errors assume that the covariance matrix of the errors is correctly specified.\n",
      "[2] The smallest eigenvalue is 4.57e-27. This might indicate that there are\n",
      "strong multicollinearity problems or that the design matrix is singular.\n"
     ]
    }
   ],
   "source": [
    "# I'm just going to test all the categories together and split them apart if there's any good reason to, for instance,\n",
    "# if this model works well at all.\n",
    "\n",
    "# Redefine the target value\n",
    "target_var = df['CF%']\n",
    "\n",
    "cf_model = sm.ols('target_var ~ test_vars', df)\n",
    "cf_results = cf_model.fit()\n",
    "\n",
    "print(cf_results.summary())"
   ]
  },
  {
   "cell_type": "code",
   "execution_count": 60,
   "metadata": {},
   "outputs": [
    {
     "data": {
      "image/png": "[encoded data removed]",
      "text/plain": [
       "<matplotlib.figure.Figure at 0x19451400>"
      ]
     },
     "metadata": {},
     "output_type": "display_data"
    }
   ],
   "source": [
    "# This looks even worse. Residuals again.\n",
    "\n",
    "plt.hist(cf_results.resid, bins=int(np.sqrt(len(df))))\n",
    "plt.title('Histogram of corsi % residuals')\n",
    "plt.show()"
   ]
  },
  {
   "cell_type": "code",
   "execution_count": 27,
   "metadata": {},
   "outputs": [
    {
     "name": "stdout",
     "output_type": "stream",
     "text": [
      "0.04082827266773348\n"
     ]
    }
   ],
   "source": [
    "# I'll try SK-Learn again anyway.\n",
    "\n",
    "cf_lr = LinearRegression()\n",
    "\n",
    "cf_lr.fit(X_train_cf, y_train_cf)\n",
    "\n",
    "print(cf_lr.score(X_train_cf, y_train_cf))"
   ]
  },
  {
   "cell_type": "code",
   "execution_count": 28,
   "metadata": {},
   "outputs": [
    {
     "name": "stdout",
     "output_type": "stream",
     "text": [
      "0.035187959244626255\n"
     ]
    }
   ],
   "source": [
    "# Again, similar to points. And again, the test set score to see about overfitting.\n",
    "\n",
    "print(cf_lr.score(X_test_cf, y_test_cf))"
   ]
  },
  {
   "cell_type": "code",
   "execution_count": 29,
   "metadata": {},
   "outputs": [
    {
     "name": "stdout",
     "output_type": "stream",
     "text": [
      "Score for 0.001 alpha and svd solver is : 0.04082827266759392\n",
      "Score for 0.01 alpha and svd solver is : 0.040828272653790416\n",
      "Score for 0.1 alpha and svd solver is : 0.04082827127501732\n",
      "Score for 1 alpha and svd solver is : 0.040828134961373386\n",
      "Score for 10 alpha and svd solver is : 0.040815897743957774\n",
      "Score for 100 alpha and svd solver is : 0.04021796130748634\n",
      "Score for 1000 alpha and svd solver is : 0.032591130918965816\n",
      "\n",
      "\n",
      "Score for 0.001 alpha and cholesky solver is : 0.04082827266759392\n",
      "Score for 0.01 alpha and cholesky solver is : 0.040828272653790416\n",
      "Score for 0.1 alpha and cholesky solver is : 0.04082827127501732\n",
      "Score for 1 alpha and cholesky solver is : 0.040828134961373386\n",
      "Score for 10 alpha and cholesky solver is : 0.040815897743957774\n",
      "Score for 100 alpha and cholesky solver is : 0.04021796130748634\n",
      "Score for 1000 alpha and cholesky solver is : 0.032591130918965705\n",
      "\n",
      "\n",
      "Score for 0.001 alpha and sparse_cg solver is : 0.040757363544024705\n",
      "Score for 0.01 alpha and sparse_cg solver is : 0.04075736353331505\n",
      "Score for 0.1 alpha and sparse_cg solver is : 0.04075736246486117\n",
      "Score for 1 alpha and sparse_cg solver is : 0.040757256464871716\n",
      "Score for 10 alpha and sparse_cg solver is : 0.04074743964255667\n",
      "Score for 100 alpha and sparse_cg solver is : 0.04019560453211546\n",
      "Score for 1000 alpha and sparse_cg solver is : 0.03259002367562158\n",
      "\n",
      "\n",
      "Score for 0.001 alpha and lsqr solver is : 0.03926258228686352\n",
      "Score for 0.01 alpha and lsqr solver is : 0.0392625822836582\n",
      "Score for 0.1 alpha and lsqr solver is : 0.03926258196319609\n",
      "Score for 1 alpha and lsqr solver is : 0.039262549986669115\n",
      "Score for 10 alpha and lsqr solver is : 0.039259420805829004\n",
      "Score for 100 alpha and lsqr solver is : 0.03900438731113165\n",
      "Score for 1000 alpha and lsqr solver is : 0.031029112512179435\n",
      "\n",
      "\n",
      "Score for 0.001 alpha and sag solver is : 0.040826650980388846\n",
      "Score for 0.01 alpha and sag solver is : 0.040826550239232644\n",
      "Score for 0.1 alpha and sag solver is : 0.040826500434948176\n",
      "Score for 1 alpha and sag solver is : 0.04082578173085638\n",
      "Score for 10 alpha and sag solver is : 0.040808645112162756\n",
      "Score for 100 alpha and sag solver is : 0.04019918466104622\n",
      "Score for 1000 alpha and sag solver is : 0.03258513762593973\n",
      "\n",
      "\n"
     ]
    }
   ],
   "source": [
    "#  Again, it's hard to tell.  Ridge?\n",
    "\n",
    "alphas = [0.001, 0.01, 0.1, 1, 10, 100, 1000]\n",
    "\n",
    "for solver in solvers:\n",
    "    for alpha in alphas:\n",
    "        cf_ridge = Ridge(alpha=alpha, solver=solver)\n",
    "        cf_ridge.fit(X_train_cf, y_train_cf)\n",
    "        \n",
    "        print('Score for {} alpha and {} solver is : {}'.format(alpha, solver, cf_ridge.score(X_train_cf, y_train_cf)))\n",
    "    print('\\n')"
   ]
  },
  {
   "cell_type": "code",
   "execution_count": 30,
   "metadata": {},
   "outputs": [
    {
     "name": "stdout",
     "output_type": "stream",
     "text": [
      "Score for 1e-05 alpha is : 0.040828272333093385\n",
      "Score for 0.0001 alpha is : 0.040828240727291076\n",
      "Score for 0.001 alpha is : 0.040825077962263645\n",
      "Score for 0.01 alpha is : 0.04050798238918274\n",
      "Score for 0.1 alpha is : 0.034604714945627446\n",
      "Score for 1 alpha is : 0.012787752182938594\n",
      "Score for 10 alpha is : 0.004459024898683106\n"
     ]
    },
    {
     "name": "stderr",
     "output_type": "stream",
     "text": [
      "C:\\Users\\Hill HP 2015\\Anaconda3\\lib\\site-packages\\sklearn\\linear_model\\coordinate_descent.py:491: ConvergenceWarning: Objective did not converge. You might want to increase the number of iterations. Fitting data with very small alpha may cause precision problems.\n",
      "  ConvergenceWarning)\n"
     ]
    }
   ],
   "source": [
    "# No change.  Last, lasso.\n",
    "\n",
    "alphas = [0.00001, 0.0001, 0.001, 0.01, 0.1, 1, 10]\n",
    "\n",
    "for alpha in alphas:\n",
    "    cf_lasso = Lasso(alpha=alpha)\n",
    "    cf_lasso.fit(X_train_cf, y_train_cf)\n",
    "        \n",
    "    print('Score for {} alpha is : {}'.format(alpha, cf_lasso.score(X_train_cf, y_train_cf)))"
   ]
  },
  {
   "cell_type": "code",
   "execution_count": 31,
   "metadata": {},
   "outputs": [
    {
     "name": "stderr",
     "output_type": "stream",
     "text": [
      "C:\\Users\\Hill HP 2015\\Anaconda3\\lib\\site-packages\\sklearn\\ensemble\\forest.py:724: UserWarning: Some inputs do not have OOB scores. This probably means too few trees were used to compute any reliable oob estimates.\n",
      "  warn(\"Some inputs do not have OOB scores. \"\n"
     ]
    },
    {
     "name": "stdout",
     "output_type": "stream",
     "text": [
      "OOB score for sqrt max features tree with 10 estimators is: -0.11916166225080338\n",
      "OOB score for sqrt max features tree with 25 estimators is: 0.04264298035762493\n",
      "OOB score for sqrt max features tree with 50 estimators is: 0.060571908011281206\n",
      "OOB score for sqrt max features tree with 75 estimators is: 0.07184432189704149\n",
      "OOB score for sqrt max features tree with 100 estimators is: 0.07675887813888971\n",
      "OOB score for sqrt max features tree with 250 estimators is: 0.09126754830955852\n",
      "OOB score for sqrt max features tree with 500 estimators is: 0.08802262436253716\n",
      "OOB score for sqrt max features tree with 750 estimators is: 0.08958932372700634\n",
      "OOB score for sqrt max features tree with 1000 estimators is: 0.09177728060586765\n",
      "\n",
      "\n",
      "OOB score for log2 max features tree with 10 estimators is: -0.09203527237600229\n"
     ]
    },
    {
     "name": "stderr",
     "output_type": "stream",
     "text": [
      "C:\\Users\\Hill HP 2015\\Anaconda3\\lib\\site-packages\\sklearn\\ensemble\\forest.py:724: UserWarning: Some inputs do not have OOB scores. This probably means too few trees were used to compute any reliable oob estimates.\n",
      "  warn(\"Some inputs do not have OOB scores. \"\n"
     ]
    },
    {
     "name": "stdout",
     "output_type": "stream",
     "text": [
      "OOB score for log2 max features tree with 25 estimators is: 0.033658547261111504\n",
      "OOB score for log2 max features tree with 50 estimators is: 0.06795988620045168\n",
      "OOB score for log2 max features tree with 75 estimators is: 0.07255066503896168\n",
      "OOB score for log2 max features tree with 100 estimators is: 0.07373850178772712\n",
      "OOB score for log2 max features tree with 250 estimators is: 0.09130780014506445\n",
      "OOB score for log2 max features tree with 500 estimators is: 0.09228614830752047\n",
      "OOB score for log2 max features tree with 750 estimators is: 0.08982614909881603\n",
      "OOB score for log2 max features tree with 1000 estimators is: 0.09100369332678471\n",
      "\n",
      "\n",
      "OOB score for None max features tree with 10 estimators is: -0.05174409219645604\n"
     ]
    },
    {
     "name": "stderr",
     "output_type": "stream",
     "text": [
      "C:\\Users\\Hill HP 2015\\Anaconda3\\lib\\site-packages\\sklearn\\ensemble\\forest.py:724: UserWarning: Some inputs do not have OOB scores. This probably means too few trees were used to compute any reliable oob estimates.\n",
      "  warn(\"Some inputs do not have OOB scores. \"\n"
     ]
    },
    {
     "name": "stdout",
     "output_type": "stream",
     "text": [
      "OOB score for None max features tree with 25 estimators is: 0.07300403504910324\n",
      "OOB score for None max features tree with 50 estimators is: 0.10350790864689297\n",
      "OOB score for None max features tree with 75 estimators is: 0.11789101325555118\n",
      "OOB score for None max features tree with 100 estimators is: 0.12378898054368803\n",
      "OOB score for None max features tree with 250 estimators is: 0.13148304591026183\n",
      "OOB score for None max features tree with 500 estimators is: 0.13304330249011442\n",
      "OOB score for None max features tree with 750 estimators is: 0.13292175156585995\n",
      "OOB score for None max features tree with 1000 estimators is: 0.13411189591460282\n",
      "\n",
      "\n"
     ]
    }
   ],
   "source": [
    "# So again, the model doesn't appear to be overfitting.  So, Corsi is even harder to predict than points with linear \n",
    "# regression.  So, I'll try a different model instead, random forests, starting with points.\n",
    "\n",
    "from sklearn.ensemble import RandomForestRegressor\n",
    "\n",
    "estimators = [10, 25, 50, 75, 100, 250, 500, 750, 1000]\n",
    "features = ['sqrt', 'log2', None]\n",
    "\n",
    "for feature in features:\n",
    "    for estimator in estimators:\n",
    "        pts_rf = RandomForestRegressor(n_estimators=estimator, max_features=feature, oob_score=True)\n",
    "        pts_rf.fit(X_train_pts, y_train_pts)\n",
    "        \n",
    "        print('OOB score for {} max features tree with {} estimators is: {}'.format(feature, estimator, pts_rf.oob_score_))\n",
    "    print('\\n')"
   ]
  },
  {
   "cell_type": "code",
   "execution_count": 32,
   "metadata": {},
   "outputs": [
    {
     "name": "stdout",
     "output_type": "stream",
     "text": [
      "113.02584682955997\n"
     ]
    }
   ],
   "source": [
    "# Those look a little better.  At least with large forests.  And clearly the best max features is None.\n",
    "# What's the RMSE on training here?\n",
    "\n",
    "pts_rf = RandomForestRegressor(n_estimators=1000, max_features=None, oob_score=True)\n",
    "pts_rf.fit(X_train_pts, y_train_pts)\n",
    "\n",
    "rf_score_train = pts_rf.score(X_train_pts, y_train_pts)\n",
    "rf_score_test = pts_rf.score(X_test_pts, y_test_pts)\n",
    "\n",
    "rf_pts_rmse_train = mean_squared_error(y_train_pts, pts_rf.predict(X_train_pts))\n",
    "print(rf_pts_rmse_train)"
   ]
  },
  {
   "cell_type": "code",
   "execution_count": 33,
   "metadata": {},
   "outputs": [
    {
     "name": "stdout",
     "output_type": "stream",
     "text": [
      "380.92165493595485\n"
     ]
    }
   ],
   "source": [
    "# And test?\n",
    "\n",
    "rf_pts_rmse_test = mean_squared_error(y_test_pts, pts_rf.predict(X_test_pts))\n",
    "print(rf_pts_rmse_test)"
   ]
  },
  {
   "cell_type": "code",
   "execution_count": 34,
   "metadata": {},
   "outputs": [
    {
     "name": "stdout",
     "output_type": "stream",
     "text": [
      "OOB score for sqrt max features tree with 10 estimators is: -0.5841112696528803\n"
     ]
    },
    {
     "name": "stderr",
     "output_type": "stream",
     "text": [
      "C:\\Users\\Hill HP 2015\\Anaconda3\\lib\\site-packages\\sklearn\\ensemble\\forest.py:724: UserWarning: Some inputs do not have OOB scores. This probably means too few trees were used to compute any reliable oob estimates.\n",
      "  warn(\"Some inputs do not have OOB scores. \"\n"
     ]
    },
    {
     "name": "stdout",
     "output_type": "stream",
     "text": [
      "OOB score for sqrt max features tree with 25 estimators is: -0.06056176108403277\n",
      "OOB score for sqrt max features tree with 50 estimators is: -0.03798821004268982\n",
      "OOB score for sqrt max features tree with 75 estimators is: -0.02618213244143397\n",
      "OOB score for sqrt max features tree with 100 estimators is: -0.024007934257589625\n",
      "OOB score for sqrt max features tree with 250 estimators is: -0.01269133720667659\n",
      "OOB score for sqrt max features tree with 500 estimators is: -0.0109573361457167\n",
      "OOB score for sqrt max features tree with 750 estimators is: -0.00786254522356189\n",
      "OOB score for sqrt max features tree with 1000 estimators is: -0.006522983050098796\n",
      "\n",
      "\n",
      "OOB score for log2 max features tree with 10 estimators is: -0.589542680334435\n"
     ]
    },
    {
     "name": "stderr",
     "output_type": "stream",
     "text": [
      "C:\\Users\\Hill HP 2015\\Anaconda3\\lib\\site-packages\\sklearn\\ensemble\\forest.py:724: UserWarning: Some inputs do not have OOB scores. This probably means too few trees were used to compute any reliable oob estimates.\n",
      "  warn(\"Some inputs do not have OOB scores. \"\n"
     ]
    },
    {
     "name": "stdout",
     "output_type": "stream",
     "text": [
      "OOB score for log2 max features tree with 25 estimators is: -0.06568345697479838\n",
      "OOB score for log2 max features tree with 50 estimators is: -0.041182472021761285\n",
      "OOB score for log2 max features tree with 75 estimators is: -0.022579163459615526\n",
      "OOB score for log2 max features tree with 100 estimators is: -0.019500382702937857\n",
      "OOB score for log2 max features tree with 250 estimators is: -0.013399172971117146\n",
      "OOB score for log2 max features tree with 500 estimators is: -0.00922557125128809\n",
      "OOB score for log2 max features tree with 750 estimators is: -0.010595407124960543\n",
      "OOB score for log2 max features tree with 1000 estimators is: -0.007633243349603802\n",
      "\n",
      "\n",
      "OOB score for None max features tree with 10 estimators is: -0.5807881591368047\n"
     ]
    },
    {
     "name": "stderr",
     "output_type": "stream",
     "text": [
      "C:\\Users\\Hill HP 2015\\Anaconda3\\lib\\site-packages\\sklearn\\ensemble\\forest.py:724: UserWarning: Some inputs do not have OOB scores. This probably means too few trees were used to compute any reliable oob estimates.\n",
      "  warn(\"Some inputs do not have OOB scores. \"\n"
     ]
    },
    {
     "name": "stdout",
     "output_type": "stream",
     "text": [
      "OOB score for None max features tree with 25 estimators is: -0.04911198627129454\n",
      "OOB score for None max features tree with 50 estimators is: -0.021280920917265744\n",
      "OOB score for None max features tree with 75 estimators is: -0.004198617646901548\n",
      "OOB score for None max features tree with 100 estimators is: -0.001676264816695916\n",
      "OOB score for None max features tree with 250 estimators is: 0.0032154979351483037\n",
      "OOB score for None max features tree with 500 estimators is: 0.012934550958447533\n",
      "OOB score for None max features tree with 750 estimators is: 0.014711379636044963\n",
      "OOB score for None max features tree with 1000 estimators is: 0.013787472585775729\n",
      "\n",
      "\n"
     ]
    }
   ],
   "source": [
    "# How about random forests for Corsi?\n",
    "\n",
    "for feature in features:\n",
    "    for estimator in estimators:\n",
    "        cf_rf = RandomForestRegressor(n_estimators=estimator, max_features=feature, oob_score=True)\n",
    "        cf_rf.fit(X_train_cf, y_train_cf)\n",
    "        \n",
    "        print('OOB score for {} max features tree with {} estimators is: {}'.format(feature, estimator, cf_rf.oob_score_))\n",
    "    print('\\n')"
   ]
  },
  {
   "cell_type": "code",
   "execution_count": 35,
   "metadata": {
    "collapsed": true
   },
   "outputs": [],
   "source": [
    "# Wow, these scores are terrible beyond the point of useless.  The only stat that seemed linked to non-game data was hits,\n",
    "# so I'll try that too.\n",
    "\n",
    "# Create a new train test split for hits\n",
    "X_train_hit, X_test_hit, y_train_hit, y_test_hit = train_test_split(df[['Height (in)','Weight (lbs)','Age','Nationality_CAN','Nationality_USA','Nationality_SWE','Nationality_CZE','Nationality_RUS','Nationality_FIN','Nationality_SVK','Nationality_OTH']], df['Hits'])"
   ]
  },
  {
   "cell_type": "code",
   "execution_count": 36,
   "metadata": {},
   "outputs": [
    {
     "name": "stdout",
     "output_type": "stream",
     "text": [
      "                            OLS Regression Results                            \n",
      "==============================================================================\n",
      "Dep. Variable:             target_var   R-squared:                       0.106\n",
      "Model:                            OLS   Adj. R-squared:                  0.105\n",
      "Method:                 Least Squares   F-statistic:                     115.1\n",
      "Date:                Wed, 01 Aug 2018   Prob (F-statistic):          1.88e-227\n",
      "Time:                        13:16:27   Log-Likelihood:                -52027.\n",
      "No. Observations:                9706   AIC:                         1.041e+05\n",
      "Df Residuals:                    9695   BIC:                         1.042e+05\n",
      "Df Model:                          10                                         \n",
      "Covariance Type:            nonrobust                                         \n",
      "=================================================================================\n",
      "                    coef    std err          t      P>|t|      [0.025      0.975]\n",
      "---------------------------------------------------------------------------------\n",
      "Intercept       -10.3236     18.786     -0.550      0.583     -47.148      26.501\n",
      "test_vars[0]     -3.0780      0.369     -8.347      0.000      -3.801      -2.355\n",
      "test_vars[1]      1.2992      0.051     25.681      0.000       1.200       1.398\n",
      "test_vars[2]      1.1099      0.117      9.514      0.000       0.881       1.339\n",
      "test_vars[3]      4.4003      2.538      1.734      0.083      -0.575       9.375\n",
      "test_vars[4]      0.3101      2.557      0.121      0.903      -4.702       5.322\n",
      "test_vars[5]     -1.1748      3.100     -0.379      0.705      -7.251       4.901\n",
      "test_vars[6]     -3.7397      3.359     -1.113      0.266     -10.324       2.845\n",
      "test_vars[7]     -1.4852      3.498     -0.425      0.671      -8.342       5.372\n",
      "test_vars[8]     -0.6254      3.569     -0.175      0.861      -7.621       6.370\n",
      "test_vars[9]     -7.5440      4.648     -1.623      0.105     -16.655       1.567\n",
      "test_vars[10]    -0.4650      3.326     -0.140      0.889      -6.984       6.054\n",
      "==============================================================================\n",
      "Omnibus:                     1999.122   Durbin-Watson:                   1.991\n",
      "Prob(Omnibus):                  0.000   Jarque-Bera (JB):             4194.752\n",
      "Skew:                           1.209   Prob(JB):                         0.00\n",
      "Kurtosis:                       5.127   Cond. No.                     3.18e+17\n",
      "==============================================================================\n",
      "\n",
      "Warnings:\n",
      "[1] Standard Errors assume that the covariance matrix of the errors is correctly specified.\n",
      "[2] The smallest eigenvalue is 4.57e-27. This might indicate that there are\n",
      "strong multicollinearity problems or that the design matrix is singular.\n"
     ]
    }
   ],
   "source": [
    "# Redefine the target value\n",
    "target_var = df['Hits']\n",
    "\n",
    "hit_model = sm.ols('target_var ~ test_vars', df)\n",
    "hit_results = hit_model.fit()\n",
    "\n",
    "print(hit_results.summary())"
   ]
  },
  {
   "cell_type": "code",
   "execution_count": 61,
   "metadata": {},
   "outputs": [
    {
     "data": {
      "image/png": "[encoded data removed]",
      "text/plain": [
       "<matplotlib.figure.Figure at 0x1bb67400>"
      ]
     },
     "metadata": {},
     "output_type": "display_data"
    }
   ],
   "source": [
    "# Hm, this shows the best R^2 score, but even that is pretty poor.  Also, the negative intercept makes no sense, so once\n",
    "# again, this looks like a bust.  But, just for completeness, the residuals.\n",
    "\n",
    "plt.hist(hit_results.resid, bins=int(np.sqrt(len(df))))\n",
    "plt.title('Histogram of hits residuals')\n",
    "plt.show()"
   ]
  },
  {
   "cell_type": "code",
   "execution_count": 38,
   "metadata": {},
   "outputs": [
    {
     "name": "stderr",
     "output_type": "stream",
     "text": [
      "C:\\Users\\Hill HP 2015\\Anaconda3\\lib\\site-packages\\sklearn\\ensemble\\forest.py:724: UserWarning: Some inputs do not have OOB scores. This probably means too few trees were used to compute any reliable oob estimates.\n",
      "  warn(\"Some inputs do not have OOB scores. \"\n"
     ]
    },
    {
     "name": "stdout",
     "output_type": "stream",
     "text": [
      "OOB score for sqrt max features tree with 10 estimators is: -0.04892024680956286\n",
      "OOB score for sqrt max features tree with 25 estimators is: 0.08912226407236501\n",
      "OOB score for sqrt max features tree with 50 estimators is: 0.09328609159744472\n",
      "OOB score for sqrt max features tree with 75 estimators is: 0.1020700232982733\n",
      "OOB score for sqrt max features tree with 100 estimators is: 0.1063360412457347\n",
      "OOB score for sqrt max features tree with 250 estimators is: 0.11871463810668115\n",
      "OOB score for sqrt max features tree with 500 estimators is: 0.12083620918346938\n",
      "OOB score for sqrt max features tree with 750 estimators is: 0.11959102636648944\n",
      "OOB score for sqrt max features tree with 1000 estimators is: 0.11959032985128237\n",
      "\n",
      "\n",
      "OOB score for log2 max features tree with 10 estimators is: -0.05354366443318104\n"
     ]
    },
    {
     "name": "stderr",
     "output_type": "stream",
     "text": [
      "C:\\Users\\Hill HP 2015\\Anaconda3\\lib\\site-packages\\sklearn\\ensemble\\forest.py:724: UserWarning: Some inputs do not have OOB scores. This probably means too few trees were used to compute any reliable oob estimates.\n",
      "  warn(\"Some inputs do not have OOB scores. \"\n"
     ]
    },
    {
     "name": "stdout",
     "output_type": "stream",
     "text": [
      "OOB score for log2 max features tree with 25 estimators is: 0.08540232041821194\n",
      "OOB score for log2 max features tree with 50 estimators is: 0.09711389529591641\n",
      "OOB score for log2 max features tree with 75 estimators is: 0.09982276992167238\n",
      "OOB score for log2 max features tree with 100 estimators is: 0.1141113170644853\n",
      "OOB score for log2 max features tree with 250 estimators is: 0.11834474520742722\n",
      "OOB score for log2 max features tree with 500 estimators is: 0.12382180295125\n",
      "OOB score for log2 max features tree with 750 estimators is: 0.12416664776929243\n",
      "OOB score for log2 max features tree with 1000 estimators is: 0.12237566739744066\n",
      "\n",
      "\n",
      "OOB score for None max features tree with 10 estimators is: -0.04782095422692634\n"
     ]
    },
    {
     "name": "stderr",
     "output_type": "stream",
     "text": [
      "C:\\Users\\Hill HP 2015\\Anaconda3\\lib\\site-packages\\sklearn\\ensemble\\forest.py:724: UserWarning: Some inputs do not have OOB scores. This probably means too few trees were used to compute any reliable oob estimates.\n",
      "  warn(\"Some inputs do not have OOB scores. \"\n"
     ]
    },
    {
     "name": "stdout",
     "output_type": "stream",
     "text": [
      "OOB score for None max features tree with 25 estimators is: 0.06737177043855225\n",
      "OOB score for None max features tree with 50 estimators is: 0.11346696707973458\n",
      "OOB score for None max features tree with 75 estimators is: 0.1200547920403463\n",
      "OOB score for None max features tree with 100 estimators is: 0.131816894414576\n",
      "OOB score for None max features tree with 250 estimators is: 0.13492168546607086\n",
      "OOB score for None max features tree with 500 estimators is: 0.1388049681262422\n",
      "OOB score for None max features tree with 750 estimators is: 0.13954913359714116\n",
      "OOB score for None max features tree with 1000 estimators is: 0.14020081234563841\n",
      "\n",
      "\n"
     ]
    }
   ],
   "source": [
    "# So, once again, I'll try a random forest for comparison.\n",
    "\n",
    "for feature in features:\n",
    "    for estimator in estimators:\n",
    "        hit_rf = RandomForestRegressor(n_estimators=estimator, max_features=feature, oob_score=True)\n",
    "        hit_rf.fit(X_train_hit, y_train_hit)\n",
    "        \n",
    "        print('OOB score for {} max features tree with {} estimators is: {}'.format(feature, estimator, hit_rf.oob_score_))\n",
    "    print('\\n')"
   ]
  },
  {
   "cell_type": "code",
   "execution_count": 62,
   "metadata": {},
   "outputs": [
    {
     "data": {
      "image/png": "[encoded data removed]",
      "text/plain": [
       "<matplotlib.figure.Figure at 0x18b64d68>"
      ]
     },
     "metadata": {},
     "output_type": "display_data"
    }
   ],
   "source": [
    "# Again, still not very good numbers, but the best so far.  So, clearly, random forest regressors beat out linear regression\n",
    "# for all the predictors.  So, I'll just keep working with them. So now, I'll plot some predicted vs actual graphs using \n",
    "# just the random forest regressors.\n",
    "\n",
    "plt.scatter(pts_rf.predict(X_test_pts),y_test_pts)\n",
    "plt.title('Predicted vs Actual Points')\n",
    "plt.ylabel('Actual Points')\n",
    "plt.xlabel('Predicted Points')\n",
    "plt.xlim((-2,100))\n",
    "plt.show()"
   ]
  },
  {
   "cell_type": "code",
   "execution_count": 63,
   "metadata": {},
   "outputs": [
    {
     "data": {
      "image/png": "[encoded data removed]",
      "text/plain": [
       "<matplotlib.figure.Figure at 0x1533e1d0>"
      ]
     },
     "metadata": {},
     "output_type": "display_data"
    }
   ],
   "source": [
    "plt.scatter(cf_rf.predict(X_test_cf),y_test_cf)\n",
    "plt.title('Predicted vs Actual Corsi %')\n",
    "plt.ylabel('Actual Corsi %')\n",
    "plt.xlabel('Predicted Corsi %')\n",
    "plt.xlim((0,100))\n",
    "plt.show()"
   ]
  },
  {
   "cell_type": "code",
   "execution_count": 64,
   "metadata": {},
   "outputs": [
    {
     "data": {
      "image/png": "[encoded data removed]",
      "text/plain": [
       "<matplotlib.figure.Figure at 0x1878bc18>"
      ]
     },
     "metadata": {},
     "output_type": "display_data"
    }
   ],
   "source": [
    "plt.scatter(hit_rf.predict(X_test_hit),y_test_hit)\n",
    "plt.title('Predicted vs Actual Hits')\n",
    "plt.ylabel('Actual Hits')\n",
    "plt.xlabel('Predicted Hits')\n",
    "plt.xlim((-7,350))\n",
    "plt.show()"
   ]
  },
  {
   "cell_type": "code",
   "execution_count": 42,
   "metadata": {},
   "outputs": [
    {
     "data": {
      "image/png": "[encoded data removed]",
      "text/plain": [
       "<matplotlib.figure.Figure at 0x18919048>"
      ]
     },
     "metadata": {},
     "output_type": "display_data"
    }
   ],
   "source": [
    "import seaborn as sns\n",
    "\n",
    "plt.xlim((0,100))\n",
    "sns.regplot(x=pts_rf.predict(X_test_pts),y=y_test_pts)\n",
    "plt.show()"
   ]
  },
  {
   "cell_type": "code",
   "execution_count": 43,
   "metadata": {},
   "outputs": [
    {
     "data": {
      "image/png": "[encoded data removed]",
      "text/plain": [
       "<matplotlib.figure.Figure at 0x18b94eb8>"
      ]
     },
     "metadata": {},
     "output_type": "display_data"
    }
   ],
   "source": [
    "plt.xlim((0,100))\n",
    "sns.regplot(x=cf_rf.predict(X_test_cf),y=y_test_cf)\n",
    "plt.show()"
   ]
  },
  {
   "cell_type": "code",
   "execution_count": 44,
   "metadata": {},
   "outputs": [
    {
     "data": {
      "image/png": "[encoded data removed]",
      "text/plain": [
       "<matplotlib.figure.Figure at 0x188f9198>"
      ]
     },
     "metadata": {},
     "output_type": "display_data"
    }
   ],
   "source": [
    "sns.regplot(x=hit_rf.predict(X_test_hit),y=y_test_hit)\n",
    "plt.show()"
   ]
  },
  {
   "cell_type": "code",
   "execution_count": 45,
   "metadata": {},
   "outputs": [
    {
     "name": "stdout",
     "output_type": "stream",
     "text": [
      "Feature Importance for points random forest\n",
      "    Estimated Coefficients         Features\n",
      "1                 0.394952     Weight (lbs)\n",
      "2                 0.268258              Age\n",
      "0                 0.192539      Height (in)\n",
      "3                 0.036450  Nationality_CAN\n",
      "4                 0.029169  Nationality_USA\n",
      "7                 0.020510  Nationality_RUS\n",
      "5                 0.016967  Nationality_SWE\n",
      "10                0.013098  Nationality_OTH\n",
      "6                 0.012898  Nationality_CZE\n",
      "8                 0.009993  Nationality_FIN\n",
      "9                 0.005166  Nationality_SVK\n"
     ]
    }
   ],
   "source": [
    "# In all the Seaborn plots, the slope of the regression line is less than 45 degrees, so none of the models predict very well.\n",
    "# But let me find the feature importances.  First, points.\n",
    "\n",
    "pts_feat_imp = pd.DataFrame({'Features': df[['Height (in)','Weight (lbs)','Age','Nationality_CAN','Nationality_USA','Nationality_SWE','Nationality_CZE','Nationality_RUS','Nationality_FIN','Nationality_SVK','Nationality_OTH']].columns, 'Estimated Coefficients': np.reshape(pts_rf.feature_importances_,11)})\n",
    "pts_feat_imp = pts_feat_imp.reindex(pts_feat_imp['Estimated Coefficients'].sort_values(ascending=False).index)\n",
    "print('Feature Importance for points random forest')\n",
    "print(pts_feat_imp)"
   ]
  },
  {
   "cell_type": "code",
   "execution_count": 46,
   "metadata": {},
   "outputs": [
    {
     "name": "stdout",
     "output_type": "stream",
     "text": [
      "Feature Importance for corsi % random forest\n",
      "    Estimated Coefficients         Features\n",
      "1                 0.386549     Weight (lbs)\n",
      "2                 0.311600              Age\n",
      "0                 0.202049      Height (in)\n",
      "3                 0.023484  Nationality_CAN\n",
      "4                 0.021175  Nationality_USA\n",
      "10                0.011259  Nationality_OTH\n",
      "8                 0.011197  Nationality_FIN\n",
      "5                 0.010327  Nationality_SWE\n",
      "6                 0.008438  Nationality_CZE\n",
      "7                 0.008225  Nationality_RUS\n",
      "9                 0.005697  Nationality_SVK\n"
     ]
    }
   ],
   "source": [
    "# Next, corsi.\n",
    "\n",
    "cf_feat_imp = pd.DataFrame({'Features': df[['Height (in)','Weight (lbs)','Age','Nationality_CAN','Nationality_USA','Nationality_SWE','Nationality_CZE','Nationality_RUS','Nationality_FIN','Nationality_SVK','Nationality_OTH']].columns, 'Estimated Coefficients': np.reshape(cf_rf.feature_importances_,11)})\n",
    "cf_feat_imp = cf_feat_imp.reindex(cf_feat_imp['Estimated Coefficients'].sort_values(ascending=False).index)\n",
    "print('Feature Importance for corsi % random forest')\n",
    "print(cf_feat_imp)"
   ]
  },
  {
   "cell_type": "code",
   "execution_count": 47,
   "metadata": {},
   "outputs": [
    {
     "name": "stdout",
     "output_type": "stream",
     "text": [
      "Feature Importance for hits random forest\n",
      "    Estimated Coefficients         Features\n",
      "1                 0.384346     Weight (lbs)\n",
      "2                 0.284776              Age\n",
      "0                 0.187960      Height (in)\n",
      "3                 0.038321  Nationality_CAN\n",
      "4                 0.032166  Nationality_USA\n",
      "6                 0.014997  Nationality_CZE\n",
      "5                 0.014692  Nationality_SWE\n",
      "7                 0.014134  Nationality_RUS\n",
      "10                0.012432  Nationality_OTH\n",
      "8                 0.011954  Nationality_FIN\n",
      "9                 0.004222  Nationality_SVK\n"
     ]
    }
   ],
   "source": [
    "# Finally, hits.\n",
    "\n",
    "hit_feat_imp = pd.DataFrame({'Features': df[['Height (in)','Weight (lbs)','Age','Nationality_CAN','Nationality_USA','Nationality_SWE','Nationality_CZE','Nationality_RUS','Nationality_FIN','Nationality_SVK','Nationality_OTH']].columns, 'Estimated Coefficients': np.reshape(hit_rf.feature_importances_,11)})\n",
    "hit_feat_imp = hit_feat_imp.reindex(hit_feat_imp['Estimated Coefficients'].sort_values(ascending=False).index)\n",
    "print('Feature Importance for hits random forest')\n",
    "print(hit_feat_imp)"
   ]
  },
  {
   "cell_type": "code",
   "execution_count": 48,
   "metadata": {},
   "outputs": [
    {
     "data": {
      "text/html": [
       "<div>\n",
       "<style>\n",
       "    .dataframe thead tr:only-child th {\n",
       "        text-align: right;\n",
       "    }\n",
       "\n",
       "    .dataframe thead th {\n",
       "        text-align: left;\n",
       "    }\n",
       "\n",
       "    .dataframe tbody tr th {\n",
       "        vertical-align: top;\n",
       "    }\n",
       "</style>\n",
       "<table border=\"1\" class=\"dataframe\">\n",
       "  <thead>\n",
       "    <tr style=\"text-align: right;\">\n",
       "      <th></th>\n",
       "      <th>R2 score test</th>\n",
       "      <th>R2 score train</th>\n",
       "      <th>RMSE score test</th>\n",
       "      <th>RMSE score train</th>\n",
       "    </tr>\n",
       "  </thead>\n",
       "  <tbody>\n",
       "    <tr>\n",
       "      <th>base linear regression</th>\n",
       "      <td>0.047656</td>\n",
       "      <td>0.040776</td>\n",
       "      <td>414.148139</td>\n",
       "      <td>386.141300</td>\n",
       "    </tr>\n",
       "    <tr>\n",
       "      <th>ridge regression</th>\n",
       "      <td>0.047656</td>\n",
       "      <td>0.040776</td>\n",
       "      <td>414.148143</td>\n",
       "      <td>386.141300</td>\n",
       "    </tr>\n",
       "    <tr>\n",
       "      <th>lasso regression</th>\n",
       "      <td>0.047656</td>\n",
       "      <td>0.040776</td>\n",
       "      <td>414.148163</td>\n",
       "      <td>386.141300</td>\n",
       "    </tr>\n",
       "    <tr>\n",
       "      <th>random forest</th>\n",
       "      <td>0.124061</td>\n",
       "      <td>0.719230</td>\n",
       "      <td>380.921655</td>\n",
       "      <td>113.025847</td>\n",
       "    </tr>\n",
       "  </tbody>\n",
       "</table>\n",
       "</div>"
      ],
      "text/plain": [
       "                        R2 score test  R2 score train  RMSE score test  \\\n",
       "base linear regression       0.047656        0.040776       414.148139   \n",
       "ridge regression             0.047656        0.040776       414.148143   \n",
       "lasso regression             0.047656        0.040776       414.148163   \n",
       "random forest                0.124061        0.719230       380.921655   \n",
       "\n",
       "                        RMSE score train  \n",
       "base linear regression        386.141300  \n",
       "ridge regression              386.141300  \n",
       "lasso regression              386.141300  \n",
       "random forest                 113.025847  "
      ]
     },
     "execution_count": 48,
     "metadata": {},
     "output_type": "execute_result"
    }
   ],
   "source": [
    "# So, for all 3 random forest regressors, the most important features are weight, then age, then height.  But the overall\n",
    "# conclusion must be that player performance cannot be predicted using only non-game metrics.  Finally, I'll show the table\n",
    "# of R^2 and RMSE scores for reference.\n",
    "\n",
    "r2_train_scores = [lr_score_train, ridge_score_train, lasso_score_train, rf_score_train]\n",
    "r2_test_scores = [lr_score_test, ridge_score_test, lasso_score_test, rf_score_test]\n",
    "rmse_train_scores = [lr_pts_rmse_train, ridge_pts_rmse_train, lasso_pts_rmse_train, rf_pts_rmse_train]\n",
    "rmse_test_scores = [lr_pts_rmse_test, ridge_pts_rmse_test, lasso_pts_rmse_test, rf_pts_rmse_test]\n",
    "\n",
    "score_table = pd.DataFrame({'R2 score train':r2_train_scores,'R2 score test':r2_test_scores,'RMSE score train':rmse_train_scores,'RMSE score test':rmse_test_scores})\n",
    "\n",
    "score_table.rename(index={0:'base linear regression',1:'ridge regression',2:'lasso regression',3:'random forest'}, inplace=True)\n",
    "score_table.head()"
   ]
  },
  {
   "cell_type": "code",
   "execution_count": null,
   "metadata": {
    "collapsed": true
   },
   "outputs": [],
   "source": []
  }
 ],
 "metadata": {
  "kernelspec": {
   "display_name": "Python 3",
   "language": "python",
   "name": "python3"
  },
  "language_info": {
   "codemirror_mode": {
    "name": "ipython",
    "version": 3
   },
   "file_extension": ".py",
   "mimetype": "text/x-python",
   "name": "python",
   "nbconvert_exporter": "python",
   "pygments_lexer": "ipython3",
   "version": "3.6.3"
  }
 },
 "nbformat": 4,
 "nbformat_minor": 2
}
